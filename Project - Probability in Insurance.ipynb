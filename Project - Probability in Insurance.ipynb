{
 "cells": [
  {
   "cell_type": "code",
   "execution_count": 1,
   "id": "50491796",
   "metadata": {},
   "outputs": [],
   "source": [
    "# importing library\n",
    "import pandas as pd\n",
    "import numpy as np\n",
    "import matplotlib.pyplot as plt"
   ]
  },
  {
   "cell_type": "code",
   "execution_count": 2,
   "id": "088ed32b",
   "metadata": {},
   "outputs": [
    {
     "data": {
      "text/html": [
       "<div>\n",
       "<style scoped>\n",
       "    .dataframe tbody tr th:only-of-type {\n",
       "        vertical-align: middle;\n",
       "    }\n",
       "\n",
       "    .dataframe tbody tr th {\n",
       "        vertical-align: top;\n",
       "    }\n",
       "\n",
       "    .dataframe thead th {\n",
       "        text-align: right;\n",
       "    }\n",
       "</style>\n",
       "<table border=\"1\" class=\"dataframe\">\n",
       "  <thead>\n",
       "    <tr style=\"text-align: right;\">\n",
       "      <th></th>\n",
       "      <th>age</th>\n",
       "      <th>sex</th>\n",
       "      <th>bmi</th>\n",
       "      <th>children</th>\n",
       "      <th>smoker</th>\n",
       "      <th>region</th>\n",
       "      <th>charges</th>\n",
       "    </tr>\n",
       "  </thead>\n",
       "  <tbody>\n",
       "    <tr>\n",
       "      <th>0</th>\n",
       "      <td>19</td>\n",
       "      <td>female</td>\n",
       "      <td>27.900</td>\n",
       "      <td>0</td>\n",
       "      <td>yes</td>\n",
       "      <td>southwest</td>\n",
       "      <td>16884.92400</td>\n",
       "    </tr>\n",
       "    <tr>\n",
       "      <th>1</th>\n",
       "      <td>18</td>\n",
       "      <td>male</td>\n",
       "      <td>33.770</td>\n",
       "      <td>1</td>\n",
       "      <td>no</td>\n",
       "      <td>southeast</td>\n",
       "      <td>1725.55230</td>\n",
       "    </tr>\n",
       "    <tr>\n",
       "      <th>2</th>\n",
       "      <td>28</td>\n",
       "      <td>male</td>\n",
       "      <td>33.000</td>\n",
       "      <td>3</td>\n",
       "      <td>no</td>\n",
       "      <td>southeast</td>\n",
       "      <td>4449.46200</td>\n",
       "    </tr>\n",
       "    <tr>\n",
       "      <th>3</th>\n",
       "      <td>33</td>\n",
       "      <td>male</td>\n",
       "      <td>22.705</td>\n",
       "      <td>0</td>\n",
       "      <td>no</td>\n",
       "      <td>northwest</td>\n",
       "      <td>21984.47061</td>\n",
       "    </tr>\n",
       "    <tr>\n",
       "      <th>4</th>\n",
       "      <td>32</td>\n",
       "      <td>male</td>\n",
       "      <td>28.880</td>\n",
       "      <td>0</td>\n",
       "      <td>no</td>\n",
       "      <td>northwest</td>\n",
       "      <td>3866.85520</td>\n",
       "    </tr>\n",
       "    <tr>\n",
       "      <th>...</th>\n",
       "      <td>...</td>\n",
       "      <td>...</td>\n",
       "      <td>...</td>\n",
       "      <td>...</td>\n",
       "      <td>...</td>\n",
       "      <td>...</td>\n",
       "      <td>...</td>\n",
       "    </tr>\n",
       "    <tr>\n",
       "      <th>1333</th>\n",
       "      <td>50</td>\n",
       "      <td>male</td>\n",
       "      <td>30.970</td>\n",
       "      <td>3</td>\n",
       "      <td>no</td>\n",
       "      <td>northwest</td>\n",
       "      <td>10600.54830</td>\n",
       "    </tr>\n",
       "    <tr>\n",
       "      <th>1334</th>\n",
       "      <td>18</td>\n",
       "      <td>female</td>\n",
       "      <td>31.920</td>\n",
       "      <td>0</td>\n",
       "      <td>no</td>\n",
       "      <td>northeast</td>\n",
       "      <td>2205.98080</td>\n",
       "    </tr>\n",
       "    <tr>\n",
       "      <th>1335</th>\n",
       "      <td>18</td>\n",
       "      <td>female</td>\n",
       "      <td>36.850</td>\n",
       "      <td>0</td>\n",
       "      <td>no</td>\n",
       "      <td>southeast</td>\n",
       "      <td>1629.83350</td>\n",
       "    </tr>\n",
       "    <tr>\n",
       "      <th>1336</th>\n",
       "      <td>21</td>\n",
       "      <td>female</td>\n",
       "      <td>25.800</td>\n",
       "      <td>0</td>\n",
       "      <td>no</td>\n",
       "      <td>southwest</td>\n",
       "      <td>2007.94500</td>\n",
       "    </tr>\n",
       "    <tr>\n",
       "      <th>1337</th>\n",
       "      <td>61</td>\n",
       "      <td>female</td>\n",
       "      <td>29.070</td>\n",
       "      <td>0</td>\n",
       "      <td>yes</td>\n",
       "      <td>northwest</td>\n",
       "      <td>29141.36030</td>\n",
       "    </tr>\n",
       "  </tbody>\n",
       "</table>\n",
       "<p>1338 rows × 7 columns</p>\n",
       "</div>"
      ],
      "text/plain": [
       "      age     sex     bmi  children smoker     region      charges\n",
       "0      19  female  27.900         0    yes  southwest  16884.92400\n",
       "1      18    male  33.770         1     no  southeast   1725.55230\n",
       "2      28    male  33.000         3     no  southeast   4449.46200\n",
       "3      33    male  22.705         0     no  northwest  21984.47061\n",
       "4      32    male  28.880         0     no  northwest   3866.85520\n",
       "...   ...     ...     ...       ...    ...        ...          ...\n",
       "1333   50    male  30.970         3     no  northwest  10600.54830\n",
       "1334   18  female  31.920         0     no  northeast   2205.98080\n",
       "1335   18  female  36.850         0     no  southeast   1629.83350\n",
       "1336   21  female  25.800         0     no  southwest   2007.94500\n",
       "1337   61  female  29.070         0    yes  northwest  29141.36030\n",
       "\n",
       "[1338 rows x 7 columns]"
      ]
     },
     "execution_count": 2,
     "metadata": {},
     "output_type": "execute_result"
    }
   ],
   "source": [
    "# read data\n",
    "data = pd.read_csv('insurance.csv')\n",
    "data"
   ]
  },
  {
   "cell_type": "markdown",
   "id": "49c25441",
   "metadata": {},
   "source": [
    "# Descriptive Statistics\n",
    "## Eksplorasi Data"
   ]
  },
  {
   "cell_type": "markdown",
   "id": "dd93df28",
   "metadata": {},
   "source": [
    "1. Rata-rata umur pengguna asuransi?"
   ]
  },
  {
   "cell_type": "code",
   "execution_count": 3,
   "id": "1056b57b",
   "metadata": {},
   "outputs": [
    {
     "name": "stdout",
     "output_type": "stream",
     "text": [
      "Rata-rata umur pengguna asuransi adalah 39.0 tahun\n"
     ]
    }
   ],
   "source": [
    "mean_umur = data['age'].mean()\n",
    "print('Rata-rata umur pengguna asuransi adalah', round(mean_umur,0), 'tahun')"
   ]
  },
  {
   "cell_type": "markdown",
   "id": "2f62edda",
   "metadata": {},
   "source": [
    "2. Rata-rata nilai BMI dari pengguna yang merokok?"
   ]
  },
  {
   "cell_type": "code",
   "execution_count": 4,
   "id": "e983cde2",
   "metadata": {},
   "outputs": [
    {
     "name": "stdout",
     "output_type": "stream",
     "text": [
      "Rata-rata BMI dari pengguna yang merokok adalah 31.0\n"
     ]
    }
   ],
   "source": [
    "smoker = np.array(data['bmi'].loc[data['smoker']=='yes']).mean()\n",
    "print('Rata-rata BMI dari pengguna yang merokok adalah', round(smoker,0))"
   ]
  },
  {
   "cell_type": "markdown",
   "id": "3ae28659",
   "metadata": {},
   "source": [
    "3. Apakah variansi dari data charges perokok dan non perokok sama?"
   ]
  },
  {
   "cell_type": "code",
   "execution_count": 5,
   "id": "a296172c",
   "metadata": {},
   "outputs": [
    {
     "data": {
      "text/html": [
       "<div>\n",
       "<style scoped>\n",
       "    .dataframe tbody tr th:only-of-type {\n",
       "        vertical-align: middle;\n",
       "    }\n",
       "\n",
       "    .dataframe tbody tr th {\n",
       "        vertical-align: top;\n",
       "    }\n",
       "\n",
       "    .dataframe thead tr th {\n",
       "        text-align: left;\n",
       "    }\n",
       "\n",
       "    .dataframe thead tr:last-of-type th {\n",
       "        text-align: right;\n",
       "    }\n",
       "</style>\n",
       "<table border=\"1\" class=\"dataframe\">\n",
       "  <thead>\n",
       "    <tr>\n",
       "      <th></th>\n",
       "      <th>charges</th>\n",
       "    </tr>\n",
       "    <tr>\n",
       "      <th></th>\n",
       "      <th>var</th>\n",
       "    </tr>\n",
       "    <tr>\n",
       "      <th>smoker</th>\n",
       "      <th></th>\n",
       "    </tr>\n",
       "  </thead>\n",
       "  <tbody>\n",
       "    <tr>\n",
       "      <th>no</th>\n",
       "      <td>35925420.0</td>\n",
       "    </tr>\n",
       "    <tr>\n",
       "      <th>yes</th>\n",
       "      <td>133207311.0</td>\n",
       "    </tr>\n",
       "  </tbody>\n",
       "</table>\n",
       "</div>"
      ],
      "text/plain": [
       "            charges\n",
       "                var\n",
       "smoker             \n",
       "no       35925420.0\n",
       "yes     133207311.0"
      ]
     },
     "execution_count": 5,
     "metadata": {},
     "output_type": "execute_result"
    }
   ],
   "source": [
    "data.groupby(['smoker']).agg({'charges':['var']}).round()"
   ]
  },
  {
   "cell_type": "markdown",
   "id": "793d55fb",
   "metadata": {},
   "source": [
    "Variansi data charges perokok dan non perokok **tidak sama**"
   ]
  },
  {
   "cell_type": "markdown",
   "id": "6b53c45c",
   "metadata": {},
   "source": [
    "4. Apakah rata-rata umur perempuan dan laki-laki yang merokok sama?"
   ]
  },
  {
   "cell_type": "code",
   "execution_count": 6,
   "id": "320767fc",
   "metadata": {},
   "outputs": [
    {
     "data": {
      "text/html": [
       "<div>\n",
       "<style scoped>\n",
       "    .dataframe tbody tr th:only-of-type {\n",
       "        vertical-align: middle;\n",
       "    }\n",
       "\n",
       "    .dataframe tbody tr th {\n",
       "        vertical-align: top;\n",
       "    }\n",
       "\n",
       "    .dataframe thead tr th {\n",
       "        text-align: left;\n",
       "    }\n",
       "\n",
       "    .dataframe thead tr:last-of-type th {\n",
       "        text-align: right;\n",
       "    }\n",
       "</style>\n",
       "<table border=\"1\" class=\"dataframe\">\n",
       "  <thead>\n",
       "    <tr>\n",
       "      <th></th>\n",
       "      <th></th>\n",
       "      <th>age</th>\n",
       "    </tr>\n",
       "    <tr>\n",
       "      <th></th>\n",
       "      <th></th>\n",
       "      <th>mean</th>\n",
       "    </tr>\n",
       "    <tr>\n",
       "      <th>smoker</th>\n",
       "      <th>sex</th>\n",
       "      <th></th>\n",
       "    </tr>\n",
       "  </thead>\n",
       "  <tbody>\n",
       "    <tr>\n",
       "      <th rowspan=\"2\" valign=\"top\">no</th>\n",
       "      <th>female</th>\n",
       "      <td>40.0</td>\n",
       "    </tr>\n",
       "    <tr>\n",
       "      <th>male</th>\n",
       "      <td>39.0</td>\n",
       "    </tr>\n",
       "    <tr>\n",
       "      <th rowspan=\"2\" valign=\"top\">yes</th>\n",
       "      <th>female</th>\n",
       "      <td>39.0</td>\n",
       "    </tr>\n",
       "    <tr>\n",
       "      <th>male</th>\n",
       "      <td>38.0</td>\n",
       "    </tr>\n",
       "  </tbody>\n",
       "</table>\n",
       "</div>"
      ],
      "text/plain": [
       "                age\n",
       "               mean\n",
       "smoker sex         \n",
       "no     female  40.0\n",
       "       male    39.0\n",
       "yes    female  39.0\n",
       "       male    38.0"
      ]
     },
     "execution_count": 6,
     "metadata": {},
     "output_type": "execute_result"
    }
   ],
   "source": [
    "data.groupby(['smoker','sex']).agg({'age':['mean']}).round(0)"
   ]
  },
  {
   "cell_type": "markdown",
   "id": "d954165b",
   "metadata": {},
   "source": [
    "Diketahui bahwa rata-rata umur dari laki-laki dan perempuan yang merokok **tidak sama**, namun hampir mirip"
   ]
  },
  {
   "cell_type": "markdown",
   "id": "959aa0a7",
   "metadata": {},
   "source": [
    "5. Mana yang lebih tinggi, rata-rata tagihan kesehatan perokok atau non perokok?"
   ]
  },
  {
   "cell_type": "code",
   "execution_count": 7,
   "id": "873df078",
   "metadata": {},
   "outputs": [
    {
     "data": {
      "text/html": [
       "<div>\n",
       "<style scoped>\n",
       "    .dataframe tbody tr th:only-of-type {\n",
       "        vertical-align: middle;\n",
       "    }\n",
       "\n",
       "    .dataframe tbody tr th {\n",
       "        vertical-align: top;\n",
       "    }\n",
       "\n",
       "    .dataframe thead tr th {\n",
       "        text-align: left;\n",
       "    }\n",
       "\n",
       "    .dataframe thead tr:last-of-type th {\n",
       "        text-align: right;\n",
       "    }\n",
       "</style>\n",
       "<table border=\"1\" class=\"dataframe\">\n",
       "  <thead>\n",
       "    <tr>\n",
       "      <th></th>\n",
       "      <th>charges</th>\n",
       "    </tr>\n",
       "    <tr>\n",
       "      <th></th>\n",
       "      <th>mean</th>\n",
       "    </tr>\n",
       "    <tr>\n",
       "      <th>smoker</th>\n",
       "      <th></th>\n",
       "    </tr>\n",
       "  </thead>\n",
       "  <tbody>\n",
       "    <tr>\n",
       "      <th>no</th>\n",
       "      <td>8434.27</td>\n",
       "    </tr>\n",
       "    <tr>\n",
       "      <th>yes</th>\n",
       "      <td>32050.23</td>\n",
       "    </tr>\n",
       "  </tbody>\n",
       "</table>\n",
       "</div>"
      ],
      "text/plain": [
       "         charges\n",
       "            mean\n",
       "smoker          \n",
       "no       8434.27\n",
       "yes     32050.23"
      ]
     },
     "execution_count": 7,
     "metadata": {},
     "output_type": "execute_result"
    }
   ],
   "source": [
    "data.groupby(['smoker']).agg({'charges':['mean']}).round(2)"
   ]
  },
  {
   "cell_type": "markdown",
   "id": "18ed36c2",
   "metadata": {},
   "source": [
    "Diketahui rata-rata tagihan perokok **lebih tinggi** daripada non perokok"
   ]
  },
  {
   "cell_type": "markdown",
   "id": "7d47d2c0",
   "metadata": {},
   "source": [
    "6. BMI mana yang lebih tinggi, laki-laki atau perempuan?"
   ]
  },
  {
   "cell_type": "code",
   "execution_count": 8,
   "id": "63a2d6a7",
   "metadata": {},
   "outputs": [
    {
     "data": {
      "text/html": [
       "<div>\n",
       "<style scoped>\n",
       "    .dataframe tbody tr th:only-of-type {\n",
       "        vertical-align: middle;\n",
       "    }\n",
       "\n",
       "    .dataframe tbody tr th {\n",
       "        vertical-align: top;\n",
       "    }\n",
       "\n",
       "    .dataframe thead tr th {\n",
       "        text-align: left;\n",
       "    }\n",
       "\n",
       "    .dataframe thead tr:last-of-type th {\n",
       "        text-align: right;\n",
       "    }\n",
       "</style>\n",
       "<table border=\"1\" class=\"dataframe\">\n",
       "  <thead>\n",
       "    <tr>\n",
       "      <th></th>\n",
       "      <th>bmi</th>\n",
       "    </tr>\n",
       "    <tr>\n",
       "      <th></th>\n",
       "      <th>mean</th>\n",
       "    </tr>\n",
       "    <tr>\n",
       "      <th>sex</th>\n",
       "      <th></th>\n",
       "    </tr>\n",
       "  </thead>\n",
       "  <tbody>\n",
       "    <tr>\n",
       "      <th>female</th>\n",
       "      <td>30.38</td>\n",
       "    </tr>\n",
       "    <tr>\n",
       "      <th>male</th>\n",
       "      <td>30.94</td>\n",
       "    </tr>\n",
       "  </tbody>\n",
       "</table>\n",
       "</div>"
      ],
      "text/plain": [
       "          bmi\n",
       "         mean\n",
       "sex          \n",
       "female  30.38\n",
       "male    30.94"
      ]
     },
     "execution_count": 8,
     "metadata": {},
     "output_type": "execute_result"
    }
   ],
   "source": [
    "data.groupby(['sex']).agg({'bmi':['mean']}).round(2)"
   ]
  },
  {
   "cell_type": "markdown",
   "id": "a10d57ce",
   "metadata": {},
   "source": [
    "Diketahui BMI laki-laki **lebih tinggi**"
   ]
  },
  {
   "cell_type": "markdown",
   "id": "b370b9d9",
   "metadata": {},
   "source": [
    "## Variabel Kategorik (PMF)"
   ]
  },
  {
   "cell_type": "markdown",
   "id": "80e8e335",
   "metadata": {},
   "source": [
    "1. Gender mana yang memiliki tagihan paling tinggi?"
   ]
  },
  {
   "cell_type": "code",
   "execution_count": 9,
   "id": "0ac61267",
   "metadata": {},
   "outputs": [
    {
     "data": {
      "text/html": [
       "<div>\n",
       "<style scoped>\n",
       "    .dataframe tbody tr th:only-of-type {\n",
       "        vertical-align: middle;\n",
       "    }\n",
       "\n",
       "    .dataframe tbody tr th {\n",
       "        vertical-align: top;\n",
       "    }\n",
       "\n",
       "    .dataframe thead tr th {\n",
       "        text-align: left;\n",
       "    }\n",
       "\n",
       "    .dataframe thead tr:last-of-type th {\n",
       "        text-align: right;\n",
       "    }\n",
       "</style>\n",
       "<table border=\"1\" class=\"dataframe\">\n",
       "  <thead>\n",
       "    <tr>\n",
       "      <th></th>\n",
       "      <th>charges</th>\n",
       "    </tr>\n",
       "    <tr>\n",
       "      <th></th>\n",
       "      <th>mean</th>\n",
       "    </tr>\n",
       "    <tr>\n",
       "      <th>sex</th>\n",
       "      <th></th>\n",
       "    </tr>\n",
       "  </thead>\n",
       "  <tbody>\n",
       "    <tr>\n",
       "      <th>female</th>\n",
       "      <td>12569.58</td>\n",
       "    </tr>\n",
       "    <tr>\n",
       "      <th>male</th>\n",
       "      <td>13956.75</td>\n",
       "    </tr>\n",
       "  </tbody>\n",
       "</table>\n",
       "</div>"
      ],
      "text/plain": [
       "         charges\n",
       "            mean\n",
       "sex             \n",
       "female  12569.58\n",
       "male    13956.75"
      ]
     },
     "execution_count": 9,
     "metadata": {},
     "output_type": "execute_result"
    }
   ],
   "source": [
    "data.groupby(['sex']).agg({'charges':['mean']}).round(2)"
   ]
  },
  {
   "cell_type": "markdown",
   "id": "d2963c87",
   "metadata": {},
   "source": [
    "Diketahui gender male/laki-laki memiliki **tagihan paling tinggi**"
   ]
  },
  {
   "cell_type": "markdown",
   "id": "810088d7",
   "metadata": {},
   "source": [
    "2. Distribusi Peluang Tagihan di setiap region?"
   ]
  },
  {
   "cell_type": "code",
   "execution_count": 10,
   "id": "d40f6b49",
   "metadata": {},
   "outputs": [
    {
     "data": {
      "text/html": [
       "<div>\n",
       "<style scoped>\n",
       "    .dataframe tbody tr th:only-of-type {\n",
       "        vertical-align: middle;\n",
       "    }\n",
       "\n",
       "    .dataframe tbody tr th {\n",
       "        vertical-align: top;\n",
       "    }\n",
       "\n",
       "    .dataframe thead tr th {\n",
       "        text-align: left;\n",
       "    }\n",
       "\n",
       "    .dataframe thead tr:last-of-type th {\n",
       "        text-align: right;\n",
       "    }\n",
       "</style>\n",
       "<table border=\"1\" class=\"dataframe\">\n",
       "  <thead>\n",
       "    <tr>\n",
       "      <th></th>\n",
       "      <th>charges</th>\n",
       "    </tr>\n",
       "    <tr>\n",
       "      <th></th>\n",
       "      <th>mean</th>\n",
       "    </tr>\n",
       "    <tr>\n",
       "      <th>region</th>\n",
       "      <th></th>\n",
       "    </tr>\n",
       "  </thead>\n",
       "  <tbody>\n",
       "    <tr>\n",
       "      <th>northeast</th>\n",
       "      <td>13406.0</td>\n",
       "    </tr>\n",
       "    <tr>\n",
       "      <th>northwest</th>\n",
       "      <td>12418.0</td>\n",
       "    </tr>\n",
       "    <tr>\n",
       "      <th>southeast</th>\n",
       "      <td>14735.0</td>\n",
       "    </tr>\n",
       "    <tr>\n",
       "      <th>southwest</th>\n",
       "      <td>12347.0</td>\n",
       "    </tr>\n",
       "  </tbody>\n",
       "</table>\n",
       "</div>"
      ],
      "text/plain": [
       "           charges\n",
       "              mean\n",
       "region            \n",
       "northeast  13406.0\n",
       "northwest  12418.0\n",
       "southeast  14735.0\n",
       "southwest  12347.0"
      ]
     },
     "execution_count": 10,
     "metadata": {},
     "output_type": "execute_result"
    }
   ],
   "source": [
    "data.groupby(['region']).agg({'charges':['mean']}).round()"
   ]
  },
  {
   "cell_type": "code",
   "execution_count": 11,
   "id": "4c61e2c4",
   "metadata": {},
   "outputs": [
    {
     "name": "stdout",
     "output_type": "stream",
     "text": [
      "distribusi peluang northeast = 25.0 %\n",
      "distribusi peluang nortwest = 23.0 %\n",
      "distribusi peluang southeast = 28.0 %\n",
      "distribusi peluang southwest = 23.0 %\n"
     ]
    }
   ],
   "source": [
    "total = 13406+12418+14735+12347\n",
    "distribusi_northeast = round(((13406/total)*100),0)\n",
    "distribusi_northwest = round(((12418/total)*100),0)\n",
    "distribusi_southeast = round(((14735/total)*100),0)\n",
    "distribusi_southwest = round(((12347/total)*100),0)\n",
    "\n",
    "print('distribusi peluang northeast =',distribusi_northeast,'%')\n",
    "print('distribusi peluang nortwest =',distribusi_northwest,'%')\n",
    "print('distribusi peluang southeast =',distribusi_southeast,'%')\n",
    "print('distribusi peluang southwest =',distribusi_southwest,'%')"
   ]
  },
  {
   "cell_type": "markdown",
   "id": "ff092d1c",
   "metadata": {},
   "source": [
    "3. Apakah setiap region memiliki proporsi data banyak orang yang sama? akan dijabarkan dibawah ini"
   ]
  },
  {
   "cell_type": "code",
   "execution_count": 12,
   "id": "39ccce13",
   "metadata": {},
   "outputs": [
    {
     "data": {
      "text/html": [
       "<div>\n",
       "<style scoped>\n",
       "    .dataframe tbody tr th:only-of-type {\n",
       "        vertical-align: middle;\n",
       "    }\n",
       "\n",
       "    .dataframe tbody tr th {\n",
       "        vertical-align: top;\n",
       "    }\n",
       "\n",
       "    .dataframe thead tr th {\n",
       "        text-align: left;\n",
       "    }\n",
       "</style>\n",
       "<table border=\"1\" class=\"dataframe\">\n",
       "  <thead>\n",
       "    <tr>\n",
       "      <th></th>\n",
       "      <th>region</th>\n",
       "      <th>age</th>\n",
       "      <th>sex</th>\n",
       "      <th>bmi</th>\n",
       "      <th>children</th>\n",
       "      <th>smoker</th>\n",
       "      <th>charges</th>\n",
       "    </tr>\n",
       "    <tr>\n",
       "      <th></th>\n",
       "      <th></th>\n",
       "      <th>count</th>\n",
       "      <th>count</th>\n",
       "      <th>count</th>\n",
       "      <th>count</th>\n",
       "      <th>count</th>\n",
       "      <th>count</th>\n",
       "    </tr>\n",
       "  </thead>\n",
       "  <tbody>\n",
       "    <tr>\n",
       "      <th>0</th>\n",
       "      <td>northeast</td>\n",
       "      <td>324</td>\n",
       "      <td>324</td>\n",
       "      <td>324</td>\n",
       "      <td>324</td>\n",
       "      <td>324</td>\n",
       "      <td>324</td>\n",
       "    </tr>\n",
       "    <tr>\n",
       "      <th>1</th>\n",
       "      <td>northwest</td>\n",
       "      <td>325</td>\n",
       "      <td>325</td>\n",
       "      <td>325</td>\n",
       "      <td>325</td>\n",
       "      <td>325</td>\n",
       "      <td>325</td>\n",
       "    </tr>\n",
       "    <tr>\n",
       "      <th>2</th>\n",
       "      <td>southeast</td>\n",
       "      <td>364</td>\n",
       "      <td>364</td>\n",
       "      <td>364</td>\n",
       "      <td>364</td>\n",
       "      <td>364</td>\n",
       "      <td>364</td>\n",
       "    </tr>\n",
       "    <tr>\n",
       "      <th>3</th>\n",
       "      <td>southwest</td>\n",
       "      <td>325</td>\n",
       "      <td>325</td>\n",
       "      <td>325</td>\n",
       "      <td>325</td>\n",
       "      <td>325</td>\n",
       "      <td>325</td>\n",
       "    </tr>\n",
       "  </tbody>\n",
       "</table>\n",
       "</div>"
      ],
      "text/plain": [
       "      region   age   sex   bmi children smoker charges\n",
       "             count count count    count  count   count\n",
       "0  northeast   324   324   324      324    324     324\n",
       "1  northwest   325   325   325      325    325     325\n",
       "2  southeast   364   364   364      364    364     364\n",
       "3  southwest   325   325   325      325    325     325"
      ]
     },
     "execution_count": 12,
     "metadata": {},
     "output_type": "execute_result"
    }
   ],
   "source": [
    "data.groupby(['region']).agg(['count']).reset_index()"
   ]
  },
  {
   "cell_type": "code",
   "execution_count": 13,
   "id": "7a27e274",
   "metadata": {},
   "outputs": [
    {
     "name": "stdout",
     "output_type": "stream",
     "text": [
      "proporsi data northeast = 24.0 %\n",
      "proporsi data nortwest = 24.0 %\n",
      "proporsi data southeast = 27.0 %\n",
      "proporsi data southwest = 24.0 %\n",
      "jawabannya adalah tidak\n"
     ]
    }
   ],
   "source": [
    "total = 324+325+364+325\n",
    "proporsi_northeast = round(((324/total)*100),0)\n",
    "proporsi_northwest = round(((325/total)*100),0)\n",
    "proporsi_southeast = round(((364/total)*100),0)\n",
    "proporsi_southwest = round(((325/total)*100),0)\n",
    "\n",
    "print('proporsi data northeast =',proporsi_northeast,'%')\n",
    "print('proporsi data nortwest =',proporsi_northwest,'%')\n",
    "print('proporsi data southeast =',proporsi_southeast,'%')\n",
    "print('proporsi data southwest =',proporsi_southwest,'%')\n",
    "print('jawabannya adalah tidak')"
   ]
  },
  {
   "cell_type": "markdown",
   "id": "00d251a0",
   "metadata": {},
   "source": [
    "4. Mana yang lebih tinggi, proporsi perokok atau non perokok?"
   ]
  },
  {
   "cell_type": "code",
   "execution_count": 14,
   "id": "973cd71b",
   "metadata": {},
   "outputs": [
    {
     "data": {
      "text/html": [
       "<div>\n",
       "<style scoped>\n",
       "    .dataframe tbody tr th:only-of-type {\n",
       "        vertical-align: middle;\n",
       "    }\n",
       "\n",
       "    .dataframe tbody tr th {\n",
       "        vertical-align: top;\n",
       "    }\n",
       "\n",
       "    .dataframe thead tr th {\n",
       "        text-align: left;\n",
       "    }\n",
       "</style>\n",
       "<table border=\"1\" class=\"dataframe\">\n",
       "  <thead>\n",
       "    <tr>\n",
       "      <th></th>\n",
       "      <th>smoker</th>\n",
       "      <th>age</th>\n",
       "      <th>sex</th>\n",
       "      <th>bmi</th>\n",
       "      <th>children</th>\n",
       "      <th>region</th>\n",
       "      <th>charges</th>\n",
       "    </tr>\n",
       "    <tr>\n",
       "      <th></th>\n",
       "      <th></th>\n",
       "      <th>count</th>\n",
       "      <th>count</th>\n",
       "      <th>count</th>\n",
       "      <th>count</th>\n",
       "      <th>count</th>\n",
       "      <th>count</th>\n",
       "    </tr>\n",
       "  </thead>\n",
       "  <tbody>\n",
       "    <tr>\n",
       "      <th>0</th>\n",
       "      <td>no</td>\n",
       "      <td>1064</td>\n",
       "      <td>1064</td>\n",
       "      <td>1064</td>\n",
       "      <td>1064</td>\n",
       "      <td>1064</td>\n",
       "      <td>1064</td>\n",
       "    </tr>\n",
       "    <tr>\n",
       "      <th>1</th>\n",
       "      <td>yes</td>\n",
       "      <td>274</td>\n",
       "      <td>274</td>\n",
       "      <td>274</td>\n",
       "      <td>274</td>\n",
       "      <td>274</td>\n",
       "      <td>274</td>\n",
       "    </tr>\n",
       "  </tbody>\n",
       "</table>\n",
       "</div>"
      ],
      "text/plain": [
       "  smoker   age   sex   bmi children region charges\n",
       "         count count count    count  count   count\n",
       "0     no  1064  1064  1064     1064   1064    1064\n",
       "1    yes   274   274   274      274    274     274"
      ]
     },
     "execution_count": 14,
     "metadata": {},
     "output_type": "execute_result"
    }
   ],
   "source": [
    "data.groupby(['smoker']).agg(['count']).reset_index()"
   ]
  },
  {
   "cell_type": "code",
   "execution_count": 15,
   "id": "8f47850f",
   "metadata": {},
   "outputs": [
    {
     "name": "stdout",
     "output_type": "stream",
     "text": [
      "proporsi non_perokok = 80.0 %\n",
      "proporsi perokok = 20.0 %\n",
      "proporsi perokok lebih besar daripada non perokok\n"
     ]
    }
   ],
   "source": [
    "total = 1064+274\n",
    "proporsi_non_perokok = round(((1064/total)*100),0)\n",
    "proporsi_perokok = round(((274/total)*100),0)\n",
    "\n",
    "print('proporsi non_perokok =',proporsi_non_perokok,'%')\n",
    "print('proporsi perokok =',proporsi_perokok,'%')\n",
    "print('proporsi perokok lebih besar daripada non perokok')"
   ]
  },
  {
   "cell_type": "markdown",
   "id": "666414a0",
   "metadata": {},
   "source": [
    "untuk soal no 5. dan no 6. menggunakan data dibawah ini"
   ]
  },
  {
   "cell_type": "code",
   "execution_count": 16,
   "id": "6e160df1",
   "metadata": {},
   "outputs": [
    {
     "data": {
      "text/html": [
       "<div>\n",
       "<style scoped>\n",
       "    .dataframe tbody tr th:only-of-type {\n",
       "        vertical-align: middle;\n",
       "    }\n",
       "\n",
       "    .dataframe tbody tr th {\n",
       "        vertical-align: top;\n",
       "    }\n",
       "\n",
       "    .dataframe thead tr th {\n",
       "        text-align: left;\n",
       "    }\n",
       "</style>\n",
       "<table border=\"1\" class=\"dataframe\">\n",
       "  <thead>\n",
       "    <tr>\n",
       "      <th></th>\n",
       "      <th>smoker</th>\n",
       "      <th>sex</th>\n",
       "      <th>age</th>\n",
       "      <th>bmi</th>\n",
       "      <th>children</th>\n",
       "      <th>region</th>\n",
       "      <th>charges</th>\n",
       "    </tr>\n",
       "    <tr>\n",
       "      <th></th>\n",
       "      <th></th>\n",
       "      <th></th>\n",
       "      <th>count</th>\n",
       "      <th>count</th>\n",
       "      <th>count</th>\n",
       "      <th>count</th>\n",
       "      <th>count</th>\n",
       "    </tr>\n",
       "  </thead>\n",
       "  <tbody>\n",
       "    <tr>\n",
       "      <th>0</th>\n",
       "      <td>no</td>\n",
       "      <td>female</td>\n",
       "      <td>547</td>\n",
       "      <td>547</td>\n",
       "      <td>547</td>\n",
       "      <td>547</td>\n",
       "      <td>547</td>\n",
       "    </tr>\n",
       "    <tr>\n",
       "      <th>1</th>\n",
       "      <td>no</td>\n",
       "      <td>male</td>\n",
       "      <td>517</td>\n",
       "      <td>517</td>\n",
       "      <td>517</td>\n",
       "      <td>517</td>\n",
       "      <td>517</td>\n",
       "    </tr>\n",
       "    <tr>\n",
       "      <th>2</th>\n",
       "      <td>yes</td>\n",
       "      <td>female</td>\n",
       "      <td>115</td>\n",
       "      <td>115</td>\n",
       "      <td>115</td>\n",
       "      <td>115</td>\n",
       "      <td>115</td>\n",
       "    </tr>\n",
       "    <tr>\n",
       "      <th>3</th>\n",
       "      <td>yes</td>\n",
       "      <td>male</td>\n",
       "      <td>159</td>\n",
       "      <td>159</td>\n",
       "      <td>159</td>\n",
       "      <td>159</td>\n",
       "      <td>159</td>\n",
       "    </tr>\n",
       "  </tbody>\n",
       "</table>\n",
       "</div>"
      ],
      "text/plain": [
       "  smoker     sex   age   bmi children region charges\n",
       "                 count count    count  count   count\n",
       "0     no  female   547   547      547    547     547\n",
       "1     no    male   517   517      517    517     517\n",
       "2    yes  female   115   115      115    115     115\n",
       "3    yes    male   159   159      159    159     159"
      ]
     },
     "execution_count": 16,
     "metadata": {},
     "output_type": "execute_result"
    }
   ],
   "source": [
    "data.groupby(['smoker', 'sex']).agg(['count']).reset_index()"
   ]
  },
  {
   "cell_type": "markdown",
   "id": "b67fe5b2",
   "metadata": {},
   "source": [
    "5. Berapa peluang seseorang tersebut adalah perempuan jika dia perokok?"
   ]
  },
  {
   "cell_type": "code",
   "execution_count": 17,
   "id": "4dd3ff81",
   "metadata": {},
   "outputs": [
    {
     "name": "stdout",
     "output_type": "stream",
     "text": [
      "Peluang perempuan dan perokok 17.37 %\n"
     ]
    }
   ],
   "source": [
    "total_female = 547+115\n",
    "female_smoker = 115\n",
    "peluang = round(((female_smoker/total_female)*100),2)\n",
    "\n",
    "print('Peluang perempuan dan perokok',peluang,'%')"
   ]
  },
  {
   "cell_type": "markdown",
   "id": "70d9d749",
   "metadata": {},
   "source": [
    "6. Berapa peluang seseorang tersebut adalah laki-laki jika dia perokok?"
   ]
  },
  {
   "cell_type": "code",
   "execution_count": 18,
   "id": "85a7ec3f",
   "metadata": {},
   "outputs": [
    {
     "name": "stdout",
     "output_type": "stream",
     "text": [
      "Peluang laki-laki dan perokok 23.52 %\n"
     ]
    }
   ],
   "source": [
    "total_male = 517+159\n",
    "male_smoker = 159\n",
    "peluang = round(((male_smoker/total_male)*100),2)\n",
    "\n",
    "print('Peluang laki-laki dan perokok',peluang,'%')"
   ]
  },
  {
   "cell_type": "markdown",
   "id": "b8197cfd",
   "metadata": {},
   "source": [
    "## Variabel Kontinu (CDF)"
   ]
  },
  {
   "cell_type": "markdown",
   "id": "36693803",
   "metadata": {},
   "source": [
    "1. Mencari Peluang Tagihan berdasarkan BMI"
   ]
  },
  {
   "cell_type": "code",
   "execution_count": 19,
   "id": "1f930c86",
   "metadata": {},
   "outputs": [
    {
     "data": {
      "text/html": [
       "<div>\n",
       "<style scoped>\n",
       "    .dataframe tbody tr th:only-of-type {\n",
       "        vertical-align: middle;\n",
       "    }\n",
       "\n",
       "    .dataframe tbody tr th {\n",
       "        vertical-align: top;\n",
       "    }\n",
       "\n",
       "    .dataframe thead th {\n",
       "        text-align: right;\n",
       "    }\n",
       "</style>\n",
       "<table border=\"1\" class=\"dataframe\">\n",
       "  <thead>\n",
       "    <tr style=\"text-align: right;\">\n",
       "      <th></th>\n",
       "      <th>age</th>\n",
       "      <th>sex</th>\n",
       "      <th>bmi</th>\n",
       "      <th>children</th>\n",
       "      <th>smoker</th>\n",
       "      <th>region</th>\n",
       "      <th>charges</th>\n",
       "      <th>bmi_category</th>\n",
       "    </tr>\n",
       "  </thead>\n",
       "  <tbody>\n",
       "    <tr>\n",
       "      <th>0</th>\n",
       "      <td>19</td>\n",
       "      <td>female</td>\n",
       "      <td>27.900</td>\n",
       "      <td>0</td>\n",
       "      <td>yes</td>\n",
       "      <td>southwest</td>\n",
       "      <td>16884.92400</td>\n",
       "      <td>Overweight</td>\n",
       "    </tr>\n",
       "    <tr>\n",
       "      <th>1</th>\n",
       "      <td>18</td>\n",
       "      <td>male</td>\n",
       "      <td>33.770</td>\n",
       "      <td>1</td>\n",
       "      <td>no</td>\n",
       "      <td>southeast</td>\n",
       "      <td>1725.55230</td>\n",
       "      <td>Obese</td>\n",
       "    </tr>\n",
       "    <tr>\n",
       "      <th>2</th>\n",
       "      <td>28</td>\n",
       "      <td>male</td>\n",
       "      <td>33.000</td>\n",
       "      <td>3</td>\n",
       "      <td>no</td>\n",
       "      <td>southeast</td>\n",
       "      <td>4449.46200</td>\n",
       "      <td>Obese</td>\n",
       "    </tr>\n",
       "    <tr>\n",
       "      <th>3</th>\n",
       "      <td>33</td>\n",
       "      <td>male</td>\n",
       "      <td>22.705</td>\n",
       "      <td>0</td>\n",
       "      <td>no</td>\n",
       "      <td>northwest</td>\n",
       "      <td>21984.47061</td>\n",
       "      <td>Normal</td>\n",
       "    </tr>\n",
       "    <tr>\n",
       "      <th>4</th>\n",
       "      <td>32</td>\n",
       "      <td>male</td>\n",
       "      <td>28.880</td>\n",
       "      <td>0</td>\n",
       "      <td>no</td>\n",
       "      <td>northwest</td>\n",
       "      <td>3866.85520</td>\n",
       "      <td>Overweight</td>\n",
       "    </tr>\n",
       "  </tbody>\n",
       "</table>\n",
       "</div>"
      ],
      "text/plain": [
       "   age     sex     bmi  children smoker     region      charges bmi_category\n",
       "0   19  female  27.900         0    yes  southwest  16884.92400   Overweight\n",
       "1   18    male  33.770         1     no  southeast   1725.55230        Obese\n",
       "2   28    male  33.000         3     no  southeast   4449.46200        Obese\n",
       "3   33    male  22.705         0     no  northwest  21984.47061       Normal\n",
       "4   32    male  28.880         0     no  northwest   3866.85520   Overweight"
      ]
     },
     "execution_count": 19,
     "metadata": {},
     "output_type": "execute_result"
    }
   ],
   "source": [
    "# membuat kondisi BMI\n",
    "conditions = [\n",
    "    (data['bmi'] < 18),\n",
    "    (data['bmi'] >= 18) & (data['bmi'] <= 25),\n",
    "    (data['bmi'] > 25) & (data['bmi'] <= 30),\n",
    "    (data['bmi'] > 30)\n",
    "    ]\n",
    "# membuat value\n",
    "values = ['Underweight', 'Normal', 'Overweight', 'Obese']\n",
    "\n",
    "# memasukan ke data insurance\n",
    "data['bmi_category'] = np.select(conditions, values)\n",
    "\n",
    "data.head()"
   ]
  },
  {
   "cell_type": "code",
   "execution_count": 20,
   "id": "db889dce",
   "metadata": {},
   "outputs": [
    {
     "data": {
      "text/html": [
       "<div>\n",
       "<style scoped>\n",
       "    .dataframe tbody tr th:only-of-type {\n",
       "        vertical-align: middle;\n",
       "    }\n",
       "\n",
       "    .dataframe tbody tr th {\n",
       "        vertical-align: top;\n",
       "    }\n",
       "\n",
       "    .dataframe thead tr th {\n",
       "        text-align: left;\n",
       "    }\n",
       "\n",
       "    .dataframe thead tr:last-of-type th {\n",
       "        text-align: right;\n",
       "    }\n",
       "</style>\n",
       "<table border=\"1\" class=\"dataframe\">\n",
       "  <thead>\n",
       "    <tr>\n",
       "      <th></th>\n",
       "      <th>charges</th>\n",
       "    </tr>\n",
       "    <tr>\n",
       "      <th></th>\n",
       "      <th>mean</th>\n",
       "    </tr>\n",
       "    <tr>\n",
       "      <th>bmi_category</th>\n",
       "      <th></th>\n",
       "    </tr>\n",
       "  </thead>\n",
       "  <tbody>\n",
       "    <tr>\n",
       "      <th>Normal</th>\n",
       "      <td>10459.367815</td>\n",
       "    </tr>\n",
       "    <tr>\n",
       "      <th>Obese</th>\n",
       "      <td>15560.926321</td>\n",
       "    </tr>\n",
       "    <tr>\n",
       "      <th>Overweight</th>\n",
       "      <td>10997.803881</td>\n",
       "    </tr>\n",
       "    <tr>\n",
       "      <th>Underweight</th>\n",
       "      <td>7576.420217</td>\n",
       "    </tr>\n",
       "  </tbody>\n",
       "</table>\n",
       "</div>"
      ],
      "text/plain": [
       "                   charges\n",
       "                      mean\n",
       "bmi_category              \n",
       "Normal        10459.367815\n",
       "Obese         15560.926321\n",
       "Overweight    10997.803881\n",
       "Underweight    7576.420217"
      ]
     },
     "execution_count": 20,
     "metadata": {},
     "output_type": "execute_result"
    }
   ],
   "source": [
    "bmi_category = data.groupby(['bmi_category']).agg({'charges':['mean']})\n",
    "bmi_category"
   ]
  },
  {
   "cell_type": "code",
   "execution_count": 21,
   "id": "8845c985",
   "metadata": {},
   "outputs": [
    {
     "data": {
      "text/plain": [
       "mean    44594.518233\n",
       "dtype: float64"
      ]
     },
     "execution_count": 21,
     "metadata": {},
     "output_type": "execute_result"
    }
   ],
   "source": [
    "bmi_total = bmi_category['charges'].sum()\n",
    "bmi_total"
   ]
  },
  {
   "cell_type": "code",
   "execution_count": 22,
   "id": "d1d79fb2",
   "metadata": {},
   "outputs": [
    {
     "data": {
      "text/html": [
       "<div>\n",
       "<style scoped>\n",
       "    .dataframe tbody tr th:only-of-type {\n",
       "        vertical-align: middle;\n",
       "    }\n",
       "\n",
       "    .dataframe tbody tr th {\n",
       "        vertical-align: top;\n",
       "    }\n",
       "\n",
       "    .dataframe thead tr th {\n",
       "        text-align: left;\n",
       "    }\n",
       "\n",
       "    .dataframe thead tr:last-of-type th {\n",
       "        text-align: right;\n",
       "    }\n",
       "</style>\n",
       "<table border=\"1\" class=\"dataframe\">\n",
       "  <thead>\n",
       "    <tr>\n",
       "      <th></th>\n",
       "      <th>charges</th>\n",
       "      <th>distribusi_peluang</th>\n",
       "    </tr>\n",
       "    <tr>\n",
       "      <th></th>\n",
       "      <th>mean</th>\n",
       "      <th></th>\n",
       "    </tr>\n",
       "    <tr>\n",
       "      <th>bmi_category</th>\n",
       "      <th></th>\n",
       "      <th></th>\n",
       "    </tr>\n",
       "  </thead>\n",
       "  <tbody>\n",
       "    <tr>\n",
       "      <th>Normal</th>\n",
       "      <td>10459.367815</td>\n",
       "      <td>0.23</td>\n",
       "    </tr>\n",
       "    <tr>\n",
       "      <th>Obese</th>\n",
       "      <td>15560.926321</td>\n",
       "      <td>0.35</td>\n",
       "    </tr>\n",
       "    <tr>\n",
       "      <th>Overweight</th>\n",
       "      <td>10997.803881</td>\n",
       "      <td>0.25</td>\n",
       "    </tr>\n",
       "    <tr>\n",
       "      <th>Underweight</th>\n",
       "      <td>7576.420217</td>\n",
       "      <td>0.17</td>\n",
       "    </tr>\n",
       "  </tbody>\n",
       "</table>\n",
       "</div>"
      ],
      "text/plain": [
       "                   charges distribusi_peluang\n",
       "                      mean                   \n",
       "bmi_category                                 \n",
       "Normal        10459.367815               0.23\n",
       "Obese         15560.926321               0.35\n",
       "Overweight    10997.803881               0.25\n",
       "Underweight    7576.420217               0.17"
      ]
     },
     "execution_count": 22,
     "metadata": {},
     "output_type": "execute_result"
    }
   ],
   "source": [
    "bmi_category['distribusi_peluang'] = (bmi_category['charges']/bmi_total).round(2)\n",
    "bmi_category"
   ]
  },
  {
   "cell_type": "markdown",
   "id": "699bd710",
   "metadata": {},
   "source": [
    "Dengan peluang 0.35 atau 35% kita mendapatkan tagihan dari BMI yang berkategori \"Obese\" yang memiliki BMI diatas 30"
   ]
  },
  {
   "cell_type": "markdown",
   "id": "ffc314bd",
   "metadata": {},
   "source": [
    "2. Peluang seorang perokok dengan BMI diatas 25 akan mendapatkan tagihan kesehatan diatas 16700"
   ]
  },
  {
   "cell_type": "code",
   "execution_count": 23,
   "id": "0a11cd3e",
   "metadata": {},
   "outputs": [
    {
     "data": {
      "text/plain": [
       "(1338, 8)"
      ]
     },
     "execution_count": 23,
     "metadata": {},
     "output_type": "execute_result"
    }
   ],
   "source": [
    "data.shape"
   ]
  },
  {
   "cell_type": "code",
   "execution_count": 24,
   "id": "268829d2",
   "metadata": {},
   "outputs": [
    {
     "data": {
      "text/plain": [
       "(215, 8)"
      ]
     },
     "execution_count": 24,
     "metadata": {},
     "output_type": "execute_result"
    }
   ],
   "source": [
    "data.loc[(data['smoker']=='yes') & (data['bmi']>25) & (data['charges']>16700)].shape"
   ]
  },
  {
   "cell_type": "code",
   "execution_count": 25,
   "id": "764c5902",
   "metadata": {},
   "outputs": [
    {
     "name": "stdout",
     "output_type": "stream",
     "text": [
      "Peluang seorang perokok dengan BMI diatas 25 akan mendapatkan tagihan kesehatan diatas 16700 adalah 16.07 %\n"
     ]
    }
   ],
   "source": [
    "peluang = ((215/1338)*100)\n",
    "\n",
    "print('Peluang seorang perokok dengan BMI diatas 25 akan mendapatkan tagihan kesehatan diatas 16700 adalah', round(peluang,2),'%')"
   ]
  },
  {
   "cell_type": "markdown",
   "id": "454bca59",
   "metadata": {},
   "source": [
    "3. Peluang acak Perokok dengan tagihan kesehatan diatas 16700?"
   ]
  },
  {
   "cell_type": "code",
   "execution_count": 26,
   "id": "af08d32f",
   "metadata": {},
   "outputs": [
    {
     "data": {
      "text/plain": [
       "(1338, 8)"
      ]
     },
     "execution_count": 26,
     "metadata": {},
     "output_type": "execute_result"
    }
   ],
   "source": [
    "data.shape"
   ]
  },
  {
   "cell_type": "code",
   "execution_count": 27,
   "id": "ffe6dc8e",
   "metadata": {},
   "outputs": [
    {
     "data": {
      "text/plain": [
       "(254, 8)"
      ]
     },
     "execution_count": 27,
     "metadata": {},
     "output_type": "execute_result"
    }
   ],
   "source": [
    "data.loc[(data['smoker']=='yes') & (data['charges']>16700)].shape"
   ]
  },
  {
   "cell_type": "code",
   "execution_count": 28,
   "id": "4b24eccc",
   "metadata": {},
   "outputs": [
    {
     "name": "stdout",
     "output_type": "stream",
     "text": [
      "Peluang seorang perokok dengan tagihan kesehatan diatas 16700 adalah 18.98 %\n"
     ]
    }
   ],
   "source": [
    "peluang = ((254/1338)*100)\n",
    "\n",
    "print('Peluang seorang perokok dengan tagihan kesehatan diatas 16700 adalah', round(peluang,2),'%')"
   ]
  },
  {
   "cell_type": "markdown",
   "id": "1c7f8a34",
   "metadata": {},
   "source": [
    "4. Mana yang lebih tinggi peluangnya?\n",
    "    1. bmi diatas 25 tagihan diatas 16700, atau\n",
    "    2. bmi dibawah 25 tagihan diatas 16700"
   ]
  },
  {
   "cell_type": "code",
   "execution_count": 29,
   "id": "57206837",
   "metadata": {},
   "outputs": [
    {
     "data": {
      "text/plain": [
       "(1338, 8)"
      ]
     },
     "execution_count": 29,
     "metadata": {},
     "output_type": "execute_result"
    }
   ],
   "source": [
    "data.shape"
   ]
  },
  {
   "cell_type": "code",
   "execution_count": 30,
   "id": "dbc539a2",
   "metadata": {},
   "outputs": [
    {
     "data": {
      "text/plain": [
       "(283, 8)"
      ]
     },
     "execution_count": 30,
     "metadata": {},
     "output_type": "execute_result"
    }
   ],
   "source": [
    "data.loc[(data['bmi']>25) & (data['charges']>16700)].shape"
   ]
  },
  {
   "cell_type": "code",
   "execution_count": 31,
   "id": "e5a58d62",
   "metadata": {},
   "outputs": [
    {
     "data": {
      "text/plain": [
       "(51, 8)"
      ]
     },
     "execution_count": 31,
     "metadata": {},
     "output_type": "execute_result"
    }
   ],
   "source": [
    "data.loc[(data['bmi']<25) & (data['charges']>16700)].shape"
   ]
  },
  {
   "cell_type": "code",
   "execution_count": 32,
   "id": "7f5605fb",
   "metadata": {},
   "outputs": [
    {
     "name": "stdout",
     "output_type": "stream",
     "text": [
      "Peluang BMI diatas 25 dengan tagihan diatas 16700 lebih tinggi dengan peluang, 21.15 %\n"
     ]
    }
   ],
   "source": [
    "pbmi_upper25 = ((283/1338)*100)\n",
    "pbmi_under25 = ((51/1338)*100)\n",
    "\n",
    "if pbmi_upper25>pbmi_under25:\n",
    "    print('Peluang BMI diatas 25 dengan tagihan diatas 16700 lebih tinggi dengan peluang,', round(pbmi_upper25,2), '%')\n",
    "else:\n",
    "    print('Peluang BMI dibawah 25 dengan tagihan diatas 16700 lebih tinggi dengan peluang,', round(pbmi_under25,2), '%')"
   ]
  },
  {
   "cell_type": "markdown",
   "id": "e34d6b53",
   "metadata": {},
   "source": [
    "5. Mana yang lebih tinggi peluangnya?\n",
    "    1. Perokok BMI diatas 25 tagihan diatas 16700, atau\n",
    "    2. Perokok BMI dibawah 25 tagihan diatas 16700"
   ]
  },
  {
   "cell_type": "code",
   "execution_count": 33,
   "id": "275b646a",
   "metadata": {},
   "outputs": [
    {
     "data": {
      "text/plain": [
       "(1338, 8)"
      ]
     },
     "execution_count": 33,
     "metadata": {},
     "output_type": "execute_result"
    }
   ],
   "source": [
    "data.shape"
   ]
  },
  {
   "cell_type": "code",
   "execution_count": 34,
   "id": "cfbf9307",
   "metadata": {},
   "outputs": [
    {
     "data": {
      "text/plain": [
       "(215, 8)"
      ]
     },
     "execution_count": 34,
     "metadata": {},
     "output_type": "execute_result"
    }
   ],
   "source": [
    "data.loc[(data['smoker']=='yes') & (data['bmi']>25) & (data['charges']>16700)].shape"
   ]
  },
  {
   "cell_type": "code",
   "execution_count": 35,
   "id": "0aed3f5a",
   "metadata": {},
   "outputs": [
    {
     "data": {
      "text/plain": [
       "(39, 8)"
      ]
     },
     "execution_count": 35,
     "metadata": {},
     "output_type": "execute_result"
    }
   ],
   "source": [
    "data.loc[(data['smoker']=='yes') & (data['bmi']<25) & (data['charges']>16700)].shape"
   ]
  },
  {
   "cell_type": "code",
   "execution_count": 36,
   "id": "3513addc",
   "metadata": {},
   "outputs": [
    {
     "name": "stdout",
     "output_type": "stream",
     "text": [
      "Peluang Perokok, BMI diatas 25, tagihan diatas 16700 lebih tinggi dengan peluang, 16.07 %\n"
     ]
    }
   ],
   "source": [
    "psmoker_bmi_upper25 = ((215/1338)*100)\n",
    "psmoker_bmi_under25 = ((39/1338)*100)\n",
    "\n",
    "if psmoker_bmi_upper25>psmoker_bmi_under25:\n",
    "    print('Peluang Perokok, BMI diatas 25, tagihan diatas 16700 lebih tinggi dengan peluang,', round(psmoker_bmi_upper25,2), '%')\n",
    "else:\n",
    "    print('Peluang Perokok, BMI dibawah 25, tagihan diatas 16700 lebih tinggi dengan peluang,', round(psmoker_bmi_under25,2), '%')"
   ]
  },
  {
   "cell_type": "markdown",
   "id": "096c78ae",
   "metadata": {},
   "source": [
    "## Analisa Korelasi"
   ]
  },
  {
   "cell_type": "code",
   "execution_count": 37,
   "id": "fd93a1bf",
   "metadata": {},
   "outputs": [],
   "source": [
    "import pandas as pd\n",
    "import numpy as np\n",
    "from numpy import cov\n",
    "import matplotlib.pyplot as plt\n",
    "import seaborn as sns\n",
    "from matplotlib.patches import Ellipse\n",
    "import matplotlib.transforms as transforms\n",
    "\n",
    "import ipywidgets as widgets\n",
    "from ipywidgets import interact"
   ]
  },
  {
   "cell_type": "code",
   "execution_count": 38,
   "id": "8e2d0fb8",
   "metadata": {},
   "outputs": [
    {
     "data": {
      "text/html": [
       "<div>\n",
       "<style scoped>\n",
       "    .dataframe tbody tr th:only-of-type {\n",
       "        vertical-align: middle;\n",
       "    }\n",
       "\n",
       "    .dataframe tbody tr th {\n",
       "        vertical-align: top;\n",
       "    }\n",
       "\n",
       "    .dataframe thead th {\n",
       "        text-align: right;\n",
       "    }\n",
       "</style>\n",
       "<table border=\"1\" class=\"dataframe\">\n",
       "  <thead>\n",
       "    <tr style=\"text-align: right;\">\n",
       "      <th></th>\n",
       "      <th>age</th>\n",
       "      <th>sex</th>\n",
       "      <th>bmi</th>\n",
       "      <th>children</th>\n",
       "      <th>smoker</th>\n",
       "      <th>region</th>\n",
       "      <th>charges</th>\n",
       "    </tr>\n",
       "  </thead>\n",
       "  <tbody>\n",
       "    <tr>\n",
       "      <th>0</th>\n",
       "      <td>19</td>\n",
       "      <td>female</td>\n",
       "      <td>27.900</td>\n",
       "      <td>0</td>\n",
       "      <td>yes</td>\n",
       "      <td>southwest</td>\n",
       "      <td>16884.92400</td>\n",
       "    </tr>\n",
       "    <tr>\n",
       "      <th>1</th>\n",
       "      <td>18</td>\n",
       "      <td>male</td>\n",
       "      <td>33.770</td>\n",
       "      <td>1</td>\n",
       "      <td>no</td>\n",
       "      <td>southeast</td>\n",
       "      <td>1725.55230</td>\n",
       "    </tr>\n",
       "    <tr>\n",
       "      <th>2</th>\n",
       "      <td>28</td>\n",
       "      <td>male</td>\n",
       "      <td>33.000</td>\n",
       "      <td>3</td>\n",
       "      <td>no</td>\n",
       "      <td>southeast</td>\n",
       "      <td>4449.46200</td>\n",
       "    </tr>\n",
       "    <tr>\n",
       "      <th>3</th>\n",
       "      <td>33</td>\n",
       "      <td>male</td>\n",
       "      <td>22.705</td>\n",
       "      <td>0</td>\n",
       "      <td>no</td>\n",
       "      <td>northwest</td>\n",
       "      <td>21984.47061</td>\n",
       "    </tr>\n",
       "    <tr>\n",
       "      <th>4</th>\n",
       "      <td>32</td>\n",
       "      <td>male</td>\n",
       "      <td>28.880</td>\n",
       "      <td>0</td>\n",
       "      <td>no</td>\n",
       "      <td>northwest</td>\n",
       "      <td>3866.85520</td>\n",
       "    </tr>\n",
       "    <tr>\n",
       "      <th>...</th>\n",
       "      <td>...</td>\n",
       "      <td>...</td>\n",
       "      <td>...</td>\n",
       "      <td>...</td>\n",
       "      <td>...</td>\n",
       "      <td>...</td>\n",
       "      <td>...</td>\n",
       "    </tr>\n",
       "    <tr>\n",
       "      <th>1333</th>\n",
       "      <td>50</td>\n",
       "      <td>male</td>\n",
       "      <td>30.970</td>\n",
       "      <td>3</td>\n",
       "      <td>no</td>\n",
       "      <td>northwest</td>\n",
       "      <td>10600.54830</td>\n",
       "    </tr>\n",
       "    <tr>\n",
       "      <th>1334</th>\n",
       "      <td>18</td>\n",
       "      <td>female</td>\n",
       "      <td>31.920</td>\n",
       "      <td>0</td>\n",
       "      <td>no</td>\n",
       "      <td>northeast</td>\n",
       "      <td>2205.98080</td>\n",
       "    </tr>\n",
       "    <tr>\n",
       "      <th>1335</th>\n",
       "      <td>18</td>\n",
       "      <td>female</td>\n",
       "      <td>36.850</td>\n",
       "      <td>0</td>\n",
       "      <td>no</td>\n",
       "      <td>southeast</td>\n",
       "      <td>1629.83350</td>\n",
       "    </tr>\n",
       "    <tr>\n",
       "      <th>1336</th>\n",
       "      <td>21</td>\n",
       "      <td>female</td>\n",
       "      <td>25.800</td>\n",
       "      <td>0</td>\n",
       "      <td>no</td>\n",
       "      <td>southwest</td>\n",
       "      <td>2007.94500</td>\n",
       "    </tr>\n",
       "    <tr>\n",
       "      <th>1337</th>\n",
       "      <td>61</td>\n",
       "      <td>female</td>\n",
       "      <td>29.070</td>\n",
       "      <td>0</td>\n",
       "      <td>yes</td>\n",
       "      <td>northwest</td>\n",
       "      <td>29141.36030</td>\n",
       "    </tr>\n",
       "  </tbody>\n",
       "</table>\n",
       "<p>1338 rows × 7 columns</p>\n",
       "</div>"
      ],
      "text/plain": [
       "      age     sex     bmi  children smoker     region      charges\n",
       "0      19  female  27.900         0    yes  southwest  16884.92400\n",
       "1      18    male  33.770         1     no  southeast   1725.55230\n",
       "2      28    male  33.000         3     no  southeast   4449.46200\n",
       "3      33    male  22.705         0     no  northwest  21984.47061\n",
       "4      32    male  28.880         0     no  northwest   3866.85520\n",
       "...   ...     ...     ...       ...    ...        ...          ...\n",
       "1333   50    male  30.970         3     no  northwest  10600.54830\n",
       "1334   18  female  31.920         0     no  northeast   2205.98080\n",
       "1335   18  female  36.850         0     no  southeast   1629.83350\n",
       "1336   21  female  25.800         0     no  southwest   2007.94500\n",
       "1337   61  female  29.070         0    yes  northwest  29141.36030\n",
       "\n",
       "[1338 rows x 7 columns]"
      ]
     },
     "execution_count": 38,
     "metadata": {},
     "output_type": "execute_result"
    }
   ],
   "source": [
    "# read data\n",
    "data = pd.read_csv('insurance.csv')\n",
    "data"
   ]
  },
  {
   "cell_type": "markdown",
   "id": "89bc362d",
   "metadata": {},
   "source": [
    "1. Hubungan antara bmi dengan charges?"
   ]
  },
  {
   "cell_type": "code",
   "execution_count": 39,
   "id": "32454f6f",
   "metadata": {},
   "outputs": [
    {
     "data": {
      "text/plain": [
       "Text(0, 0.5, 'charges')"
      ]
     },
     "execution_count": 39,
     "metadata": {},
     "output_type": "execute_result"
    },
    {
     "data": {
      "image/png": "[encoded data removed]",
      "text/plain": [
       "<Figure size 432x288 with 1 Axes>"
      ]
     },
     "metadata": {
      "needs_background": "light"
     },
     "output_type": "display_data"
    }
   ],
   "source": [
    "import matplotlib.pyplot as plt\n",
    "plt.scatter(data['bmi'], data['charges'])\n",
    "plt.xlabel('bmi')\n",
    "plt.ylabel('charges')"
   ]
  },
  {
   "cell_type": "code",
   "execution_count": 40,
   "id": "8e91b339",
   "metadata": {},
   "outputs": [
    {
     "data": {
      "text/plain": [
       "array([[3.71878836e+01, 1.46473044e+04],\n",
       "       [1.46473044e+04, 1.46652372e+08]])"
      ]
     },
     "execution_count": 40,
     "metadata": {},
     "output_type": "execute_result"
    }
   ],
   "source": [
    "np.cov(data['bmi'], data['charges'])"
   ]
  },
  {
   "cell_type": "code",
   "execution_count": 41,
   "id": "4656e997",
   "metadata": {},
   "outputs": [
    {
     "data": {
      "text/html": [
       "<div>\n",
       "<style scoped>\n",
       "    .dataframe tbody tr th:only-of-type {\n",
       "        vertical-align: middle;\n",
       "    }\n",
       "\n",
       "    .dataframe tbody tr th {\n",
       "        vertical-align: top;\n",
       "    }\n",
       "\n",
       "    .dataframe thead th {\n",
       "        text-align: right;\n",
       "    }\n",
       "</style>\n",
       "<table border=\"1\" class=\"dataframe\">\n",
       "  <thead>\n",
       "    <tr style=\"text-align: right;\">\n",
       "      <th></th>\n",
       "      <th>bmi</th>\n",
       "      <th>charges</th>\n",
       "    </tr>\n",
       "  </thead>\n",
       "  <tbody>\n",
       "    <tr>\n",
       "      <th>bmi</th>\n",
       "      <td>1.000000</td>\n",
       "      <td>0.198341</td>\n",
       "    </tr>\n",
       "    <tr>\n",
       "      <th>charges</th>\n",
       "      <td>0.198341</td>\n",
       "      <td>1.000000</td>\n",
       "    </tr>\n",
       "  </tbody>\n",
       "</table>\n",
       "</div>"
      ],
      "text/plain": [
       "              bmi   charges\n",
       "bmi      1.000000  0.198341\n",
       "charges  0.198341  1.000000"
      ]
     },
     "execution_count": 41,
     "metadata": {},
     "output_type": "execute_result"
    }
   ],
   "source": [
    "data[['bmi', 'charges']].corr()"
   ]
  },
  {
   "cell_type": "markdown",
   "id": "006a9382",
   "metadata": {},
   "source": [
    "Disimpulkan bahwa hubungan antara bmi dengan charges **berkorelasi positif namun lemah**"
   ]
  },
  {
   "cell_type": "markdown",
   "id": "bbbc1303",
   "metadata": {},
   "source": [
    "2. bagaimana age dengan charges?"
   ]
  },
  {
   "cell_type": "code",
   "execution_count": 42,
   "id": "310e31ee",
   "metadata": {},
   "outputs": [
    {
     "data": {
      "text/plain": [
       "Text(0, 0.5, 'charges')"
      ]
     },
     "execution_count": 42,
     "metadata": {},
     "output_type": "execute_result"
    },
    {
     "data": {
      "image/png": "[encoded data removed]",
      "text/plain": [
       "<Figure size 432x288 with 1 Axes>"
      ]
     },
     "metadata": {
      "needs_background": "light"
     },
     "output_type": "display_data"
    }
   ],
   "source": [
    "import matplotlib.pyplot as plt\n",
    "plt.scatter(data['age'], data['charges'])\n",
    "plt.xlabel('age')\n",
    "plt.ylabel('charges')"
   ]
  },
  {
   "cell_type": "code",
   "execution_count": 43,
   "id": "e1ea04f3",
   "metadata": {},
   "outputs": [
    {
     "data": {
      "text/plain": [
       "array([[1.97401387e+02, 5.08748023e+04],\n",
       "       [5.08748023e+04, 1.46652372e+08]])"
      ]
     },
     "execution_count": 43,
     "metadata": {},
     "output_type": "execute_result"
    }
   ],
   "source": [
    "np.cov(data['age'], data['charges'])"
   ]
  },
  {
   "cell_type": "code",
   "execution_count": 44,
   "id": "0072cd6e",
   "metadata": {},
   "outputs": [
    {
     "data": {
      "text/html": [
       "<div>\n",
       "<style scoped>\n",
       "    .dataframe tbody tr th:only-of-type {\n",
       "        vertical-align: middle;\n",
       "    }\n",
       "\n",
       "    .dataframe tbody tr th {\n",
       "        vertical-align: top;\n",
       "    }\n",
       "\n",
       "    .dataframe thead th {\n",
       "        text-align: right;\n",
       "    }\n",
       "</style>\n",
       "<table border=\"1\" class=\"dataframe\">\n",
       "  <thead>\n",
       "    <tr style=\"text-align: right;\">\n",
       "      <th></th>\n",
       "      <th>age</th>\n",
       "      <th>charges</th>\n",
       "    </tr>\n",
       "  </thead>\n",
       "  <tbody>\n",
       "    <tr>\n",
       "      <th>age</th>\n",
       "      <td>1.000000</td>\n",
       "      <td>0.299008</td>\n",
       "    </tr>\n",
       "    <tr>\n",
       "      <th>charges</th>\n",
       "      <td>0.299008</td>\n",
       "      <td>1.000000</td>\n",
       "    </tr>\n",
       "  </tbody>\n",
       "</table>\n",
       "</div>"
      ],
      "text/plain": [
       "              age   charges\n",
       "age      1.000000  0.299008\n",
       "charges  0.299008  1.000000"
      ]
     },
     "execution_count": 44,
     "metadata": {},
     "output_type": "execute_result"
    }
   ],
   "source": [
    "data[['age', 'charges']].corr()"
   ]
  },
  {
   "cell_type": "markdown",
   "id": "a7858aa2",
   "metadata": {},
   "source": [
    "Disimpulkan bahwa hubungan antara age dengan charges **berkorelasi positif namun lemah**"
   ]
  },
  {
   "cell_type": "markdown",
   "id": "4925af1c",
   "metadata": {},
   "source": [
    "3. Bagaimana children dengan charges?"
   ]
  },
  {
   "cell_type": "code",
   "execution_count": 45,
   "id": "7784418a",
   "metadata": {},
   "outputs": [
    {
     "data": {
      "text/plain": [
       "Text(0, 0.5, 'charges')"
      ]
     },
     "execution_count": 45,
     "metadata": {},
     "output_type": "execute_result"
    },
    {
     "data": {
      "image/png": "[encoded data removed]",
      "text/plain": [
       "<Figure size 432x288 with 1 Axes>"
      ]
     },
     "metadata": {
      "needs_background": "light"
     },
     "output_type": "display_data"
    }
   ],
   "source": [
    "import matplotlib.pyplot as plt\n",
    "plt.scatter(data['children'], data['charges'])\n",
    "plt.xlabel('children')\n",
    "plt.ylabel('charges')"
   ]
  },
  {
   "cell_type": "code",
   "execution_count": 46,
   "id": "bd27ee19",
   "metadata": {},
   "outputs": [
    {
     "data": {
      "text/plain": [
       "array([[1.45321275e+00, 9.92674197e+02],\n",
       "       [9.92674197e+02, 1.46652372e+08]])"
      ]
     },
     "execution_count": 46,
     "metadata": {},
     "output_type": "execute_result"
    }
   ],
   "source": [
    "np.cov(data['children'], data['charges'])"
   ]
  },
  {
   "cell_type": "code",
   "execution_count": 47,
   "id": "52db67b8",
   "metadata": {},
   "outputs": [
    {
     "data": {
      "text/html": [
       "<div>\n",
       "<style scoped>\n",
       "    .dataframe tbody tr th:only-of-type {\n",
       "        vertical-align: middle;\n",
       "    }\n",
       "\n",
       "    .dataframe tbody tr th {\n",
       "        vertical-align: top;\n",
       "    }\n",
       "\n",
       "    .dataframe thead th {\n",
       "        text-align: right;\n",
       "    }\n",
       "</style>\n",
       "<table border=\"1\" class=\"dataframe\">\n",
       "  <thead>\n",
       "    <tr style=\"text-align: right;\">\n",
       "      <th></th>\n",
       "      <th>children</th>\n",
       "      <th>charges</th>\n",
       "    </tr>\n",
       "  </thead>\n",
       "  <tbody>\n",
       "    <tr>\n",
       "      <th>children</th>\n",
       "      <td>1.000000</td>\n",
       "      <td>0.067998</td>\n",
       "    </tr>\n",
       "    <tr>\n",
       "      <th>charges</th>\n",
       "      <td>0.067998</td>\n",
       "      <td>1.000000</td>\n",
       "    </tr>\n",
       "  </tbody>\n",
       "</table>\n",
       "</div>"
      ],
      "text/plain": [
       "          children   charges\n",
       "children  1.000000  0.067998\n",
       "charges   0.067998  1.000000"
      ]
     },
     "execution_count": 47,
     "metadata": {},
     "output_type": "execute_result"
    }
   ],
   "source": [
    "data[['children', 'charges']].corr()"
   ]
  },
  {
   "cell_type": "markdown",
   "id": "bdafa81e",
   "metadata": {},
   "source": [
    "Disimpulkan bahwa hubungan antara children dengan charges **tidak berkorelasi** karena mendekati 0"
   ]
  },
  {
   "cell_type": "markdown",
   "id": "87176f65",
   "metadata": {},
   "source": [
    "## Hypothesis Testing"
   ]
  },
  {
   "cell_type": "markdown",
   "id": "aa3f0208",
   "metadata": {},
   "source": [
    "1. Tagihan kesehatan perokok lebih tinggi dari tagihan kesehatan non perokok?"
   ]
  },
  {
   "cell_type": "markdown",
   "id": "6681e791",
   "metadata": {},
   "source": [
    "Langkah 1 - lakukan sampling data"
   ]
  },
  {
   "cell_type": "code",
   "execution_count": 48,
   "id": "1835ce54",
   "metadata": {},
   "outputs": [
    {
     "data": {
      "text/plain": [
       "array([46130.5265 , 33750.2918 , 32548.3405 , 48885.13561, 28868.6639 ,\n",
       "       16232.847  , 47305.305  , 42124.5153 , 37607.5277 , 32734.1863 ,\n",
       "       48675.5177 , 27533.9129 , 19594.80965, 48673.5588 , 22331.5668 ,\n",
       "       20773.62775, 36197.699  , 21771.3423 , 62592.87309, 40932.4295 ,\n",
       "       37701.8768 , 24667.419  , 33307.5508 , 29330.98315, 23967.38305,\n",
       "       24393.6224 , 63770.42801, 21774.32215, 17178.6824 , 40003.33225])"
      ]
     },
     "execution_count": 48,
     "metadata": {},
     "output_type": "execute_result"
    }
   ],
   "source": [
    "perokok = np.array(data['charges'].loc[data['smoker']=='yes'].sample(n=30))\n",
    "perokok"
   ]
  },
  {
   "cell_type": "code",
   "execution_count": 49,
   "id": "7f48771e",
   "metadata": {},
   "outputs": [
    {
     "data": {
      "text/plain": [
       "array([11763.0009 ,  3471.4096 ,  3366.6697 ,  2331.519  , 10976.24575,\n",
       "       27000.98473,  4347.02335,  2150.469  ,  8211.1002 ,  4350.5144 ,\n",
       "        8068.185  ,  7345.7266 , 10264.4421 , 13635.6379 , 11743.9341 ,\n",
       "        9855.1314 , 12557.6053 ,  2897.3235 , 24227.33724,  9361.3268 ,\n",
       "       13415.0381 , 13228.84695,  8825.086  ,  6311.952  , 28468.91901,\n",
       "       30166.61817, 11837.16   , 11856.4115 , 23082.95533,  1826.843  ])"
      ]
     },
     "execution_count": 49,
     "metadata": {},
     "output_type": "execute_result"
    }
   ],
   "source": [
    "non_perokok = np.array(data['charges'].loc[data['smoker']=='no'].sample(n=30))\n",
    "non_perokok"
   ]
  },
  {
   "cell_type": "markdown",
   "id": "697e73b0",
   "metadata": {},
   "source": [
    "dikarenakan kita mengambil sample berjumlah 30 dan mengasumsikan tidak mengetahui standar deviasinya maka yang digunakan adalah **statistik uji t-test 2 sampel**"
   ]
  },
  {
   "cell_type": "markdown",
   "id": "c74b962f",
   "metadata": {},
   "source": [
    "Hipothesis yang kita uji adalah:\n",
    "$$H_0: \\mu(perokok) \\geq \\mu(non perokok)$$\n",
    "$$H_1: \\mu(perokok) <  \\mu(non perokok)$$"
   ]
  },
  {
   "cell_type": "markdown",
   "id": "b70a23ea",
   "metadata": {},
   "source": [
    "Langkah 2 - inisiasi alpha"
   ]
  },
  {
   "cell_type": "code",
   "execution_count": 50,
   "id": "fec65a87",
   "metadata": {},
   "outputs": [],
   "source": [
    "alpha = 0.05"
   ]
  },
  {
   "cell_type": "markdown",
   "id": "874072e5",
   "metadata": {},
   "source": [
    "Langkah 3 - aturan keputusan"
   ]
  },
  {
   "cell_type": "markdown",
   "id": "299415e0",
   "metadata": {},
   "source": [
    "* Alpha = 0.05\n",
    "* Uji Pihak Kiri (karena $H_1$ mengandung tanda <)"
   ]
  },
  {
   "cell_type": "markdown",
   "id": "52a37176",
   "metadata": {},
   "source": [
    "Langkah 4 - melakukan uji statistik t"
   ]
  },
  {
   "cell_type": "code",
   "execution_count": 51,
   "id": "a7df6648",
   "metadata": {},
   "outputs": [
    {
     "name": "stdout",
     "output_type": "stream",
     "text": [
      "Statistics = 8.48, p-value = 1.00\n"
     ]
    }
   ],
   "source": [
    "from scipy.stats import ttest_ind\n",
    "\n",
    "stat, p = ttest_ind(a=perokok, b=non_perokok, equal_var=False, alternative='less')\n",
    "\n",
    "print('Statistics = %.2f, p-value = %.2f' % (stat,p))"
   ]
  },
  {
   "cell_type": "markdown",
   "id": "f8170cce",
   "metadata": {},
   "source": [
    "Langkah 5 - pengambilan keputusan"
   ]
  },
  {
   "cell_type": "code",
   "execution_count": 52,
   "id": "c5ae9940",
   "metadata": {},
   "outputs": [
    {
     "name": "stdout",
     "output_type": "stream",
     "text": [
      "Gagal tolak H0\n"
     ]
    }
   ],
   "source": [
    "if p > alpha:\n",
    "    print('Gagal tolak H0')\n",
    "else:\n",
    "    print('tolak H0')"
   ]
  },
  {
   "cell_type": "markdown",
   "id": "895d2264",
   "metadata": {},
   "source": [
    "Langkah 6 - kesimpulan"
   ]
  },
  {
   "cell_type": "markdown",
   "id": "de8de9ac",
   "metadata": {},
   "source": [
    "Karena hasil dari keputusan adalah **Gagal tolak H0** maka **Rata-rata tagihan perokok memang lebih tinggi daripada non-perokok**"
   ]
  },
  {
   "cell_type": "markdown",
   "id": "74dbd4d5",
   "metadata": {},
   "source": [
    "2. Tagihan kesehatan dengan bmi diatas 25 lebih tinggi daripada tagihan kesehatan bmi dibawah 25?"
   ]
  },
  {
   "cell_type": "markdown",
   "id": "8144d86f",
   "metadata": {},
   "source": [
    "Langkah 1 - lakukan sampling data"
   ]
  },
  {
   "cell_type": "code",
   "execution_count": 53,
   "id": "9e19dca9",
   "metadata": {},
   "outputs": [
    {
     "data": {
      "text/plain": [
       "array([ 1972.95   , 12648.7034 , 52590.82939, 21472.4788 , 24180.9335 ,\n",
       "       13405.3903 ,  1759.338  , 22331.5668 , 11253.421  ,  7050.0213 ,\n",
       "        1261.442  , 17085.2676 , 10450.552  ,  2331.519  ,  1837.2819 ,\n",
       "       33732.6867 ,  5272.1758 , 18157.876  ,  9617.66245,  6600.361  ,\n",
       "        4837.5823 , 11658.37915, 13429.0354 , 30063.58055, 23563.01618,\n",
       "       45702.02235,  6203.90175,  4449.462  ,  2416.955  ,  1875.344  ])"
      ]
     },
     "execution_count": 53,
     "metadata": {},
     "output_type": "execute_result"
    }
   ],
   "source": [
    "charges_bmi_upper25 = np.array(data['charges'].loc[data['bmi']>25].sample(n=30))\n",
    "charges_bmi_upper25"
   ]
  },
  {
   "cell_type": "code",
   "execution_count": 54,
   "id": "ebece009",
   "metadata": {},
   "outputs": [
    {
     "data": {
      "text/plain": [
       "array([11013.7119 ,  4005.4225 ,  6858.4796 ,  1704.5681 , 15817.9857 ,\n",
       "       16577.7795 ,  9788.8659 ,  9500.57305,  8605.3615 ,  6117.4945 ,\n",
       "       12479.70895,  8891.1395 ,  1621.3402 ,  8603.8234 ,  5458.04645,\n",
       "        7147.105  ,  5257.50795,  4428.88785, 14283.4594 , 13012.20865,\n",
       "        7173.35995, 21098.55405, 27037.9141 ,  2396.0959 ,  3378.91   ,\n",
       "       21195.818  , 16776.30405, 30166.61817, 10791.96   ,  2585.269  ])"
      ]
     },
     "execution_count": 54,
     "metadata": {},
     "output_type": "execute_result"
    }
   ],
   "source": [
    "charges_bmi_under25 = np.array(data['charges'].loc[data['bmi']<25].sample(n=30))\n",
    "charges_bmi_under25"
   ]
  },
  {
   "cell_type": "markdown",
   "id": "b614a355",
   "metadata": {},
   "source": [
    "dikarenakan kita mengambil sample berjumlah 30 dan mengasumsikan tidak mengetahui standar deviasinya maka yang digunakan adalah **statistik uji t-test 2 sampel**"
   ]
  },
  {
   "cell_type": "markdown",
   "id": "cf721375",
   "metadata": {},
   "source": [
    "Hipothesis yang kita uji adalah:\n",
    "$$H_0: \\mu(bmi>25) \\geq \\mu(bmi<25)$$\n",
    "$$H_1: \\mu(bmi>25) <  \\mu(bmi<25)$$"
   ]
  },
  {
   "cell_type": "markdown",
   "id": "657c38b0",
   "metadata": {},
   "source": [
    "Langkah 2 - inisiasi alpha"
   ]
  },
  {
   "cell_type": "code",
   "execution_count": 55,
   "id": "c47accb8",
   "metadata": {},
   "outputs": [],
   "source": [
    "alpha = 0.05"
   ]
  },
  {
   "cell_type": "markdown",
   "id": "165cc680",
   "metadata": {},
   "source": [
    "Langkah 3 - aturan keputusan"
   ]
  },
  {
   "cell_type": "markdown",
   "id": "b65a5f34",
   "metadata": {},
   "source": [
    "* Alpha = 0.05\n",
    "* Uji Pihak Kiri (karena $H_1$ mengandung tanda <)"
   ]
  },
  {
   "cell_type": "markdown",
   "id": "3e434755",
   "metadata": {},
   "source": [
    "Langkah 4 - uji statistik t"
   ]
  },
  {
   "cell_type": "code",
   "execution_count": 56,
   "id": "6ca8368b",
   "metadata": {},
   "outputs": [
    {
     "name": "stdout",
     "output_type": "stream",
     "text": [
      "Statistics = 1.28, p-value = 0.90\n"
     ]
    }
   ],
   "source": [
    "from scipy.stats import ttest_ind\n",
    "\n",
    "stat, p = ttest_ind(a=charges_bmi_upper25, b=charges_bmi_under25, equal_var=False, alternative='less')\n",
    "\n",
    "print('Statistics = %.2f, p-value = %.2f' % (stat,p))"
   ]
  },
  {
   "cell_type": "markdown",
   "id": "d52310b3",
   "metadata": {},
   "source": [
    "Langkah 5 - pengambilan keputusan"
   ]
  },
  {
   "cell_type": "code",
   "execution_count": 57,
   "id": "91359ddd",
   "metadata": {},
   "outputs": [
    {
     "name": "stdout",
     "output_type": "stream",
     "text": [
      "Gagal tolak H0\n"
     ]
    }
   ],
   "source": [
    "if p > alpha:\n",
    "    print('Gagal tolak H0')\n",
    "else:\n",
    "    print('tolak H0')"
   ]
  },
  {
   "cell_type": "markdown",
   "id": "2c85b909",
   "metadata": {},
   "source": [
    "Langkah 6 - kesimpulan"
   ]
  },
  {
   "cell_type": "markdown",
   "id": "ed6c5c12",
   "metadata": {},
   "source": [
    "Karena hasil dari keputusan adalah **Gagal tolak H0** maka **Rata-rata tagihan bmi diatas 25 memang lebih tinggi daripada bmi dibawah 25**"
   ]
  },
  {
   "cell_type": "markdown",
   "id": "904a2f8c",
   "metadata": {},
   "source": [
    "3. BMI laki-laki dan perempuan sama?"
   ]
  },
  {
   "cell_type": "markdown",
   "id": "fee2e06d",
   "metadata": {},
   "source": [
    "Langkah 1 - lakukan sampling data"
   ]
  },
  {
   "cell_type": "code",
   "execution_count": 58,
   "id": "11d84a42",
   "metadata": {},
   "outputs": [
    {
     "data": {
      "text/plain": [
       "array([35.42 , 30.14 , 34.3  , 22.3  , 40.47 , 35.86 , 35.5  , 47.74 ,\n",
       "       27.835, 33.11 , 30.59 , 26.51 , 37.07 , 37.05 , 23.9  , 25.1  ,\n",
       "       29.6  , 21.375, 40.37 , 33.63 , 33.535, 28.3  , 31.54 , 29.8  ,\n",
       "       25.41 , 34.32 , 27.6  , 27.645, 20.425, 29.9  ])"
      ]
     },
     "execution_count": 58,
     "metadata": {},
     "output_type": "execute_result"
    }
   ],
   "source": [
    "male = np.array(data['bmi'].loc[data['sex']=='male'].sample(n=30))\n",
    "male"
   ]
  },
  {
   "cell_type": "code",
   "execution_count": 59,
   "id": "1ad12e0d",
   "metadata": {},
   "outputs": [
    {
     "data": {
      "text/plain": [
       "array([29.355, 29.3  , 20.045, 42.68 , 21.755, 21.89 , 27.5  , 25.27 ,\n",
       "       21.945, 27.5  , 33.155, 34.865, 34.21 , 33.99 , 32.11 , 28.9  ,\n",
       "       34.105, 31.02 , 28.88 , 30.21 , 27.94 , 33.155, 30.02 , 33.7  ,\n",
       "       36.   , 27.645, 39.33 , 22.135, 25.6  , 32.45 ])"
      ]
     },
     "execution_count": 59,
     "metadata": {},
     "output_type": "execute_result"
    }
   ],
   "source": [
    "female = np.array(data['bmi'].loc[data['sex']=='female'].sample(n=30))\n",
    "female"
   ]
  },
  {
   "cell_type": "markdown",
   "id": "35eadd25",
   "metadata": {},
   "source": [
    "dikarenakan kita mengambil sample berjumlah 30 dan mengasumsikan tidak mengetahui standar deviasinya maka yang digunakan adalah **statistik uji t-test 2 sampel**"
   ]
  },
  {
   "cell_type": "markdown",
   "id": "23814c8c",
   "metadata": {},
   "source": [
    "Hipothesis yang kita uji adalah:\n",
    "$$H_0: \\mu(male) = \\mu(female)$$\n",
    "$$H_1: \\mu(male) \\not=  \\mu(female)$$"
   ]
  },
  {
   "cell_type": "markdown",
   "id": "8c606ba0",
   "metadata": {},
   "source": [
    "Langkah 2 - inisiasi alpha"
   ]
  },
  {
   "cell_type": "code",
   "execution_count": 60,
   "id": "a0592576",
   "metadata": {},
   "outputs": [],
   "source": [
    "alpha = 0.05"
   ]
  },
  {
   "cell_type": "markdown",
   "id": "0fe74344",
   "metadata": {},
   "source": [
    "Langkah 3 - aturan keputusan"
   ]
  },
  {
   "cell_type": "markdown",
   "id": "5bcc6887",
   "metadata": {},
   "source": [
    "* Alpha = 0.05\n",
    "* Uji Pihak Kanan (karena $H_1$ mengandung tanda $\\not =$)"
   ]
  },
  {
   "cell_type": "markdown",
   "id": "522dfb64",
   "metadata": {},
   "source": [
    "Langkah 4 - uji statistik t"
   ]
  },
  {
   "cell_type": "code",
   "execution_count": 61,
   "id": "5d0540a1",
   "metadata": {},
   "outputs": [
    {
     "name": "stdout",
     "output_type": "stream",
     "text": [
      "Statistics = 0.89, p-value = 0.19\n"
     ]
    }
   ],
   "source": [
    "from scipy.stats import ttest_ind\n",
    "\n",
    "stat, p = ttest_ind(a=male, b=female, equal_var=False, alternative='greater')\n",
    "\n",
    "print('Statistics = %.2f, p-value = %.2f' % (stat,p))"
   ]
  },
  {
   "cell_type": "markdown",
   "id": "235f51ca",
   "metadata": {},
   "source": [
    "Langkah 5 - pengambilan keputusan"
   ]
  },
  {
   "cell_type": "code",
   "execution_count": 62,
   "id": "56ee8abd",
   "metadata": {},
   "outputs": [
    {
     "name": "stdout",
     "output_type": "stream",
     "text": [
      "Gagal tolak H0\n"
     ]
    }
   ],
   "source": [
    "if p > alpha:\n",
    "    print('Gagal tolak H0')\n",
    "else:\n",
    "    print('tolak H0')"
   ]
  },
  {
   "cell_type": "markdown",
   "id": "56df2fc9",
   "metadata": {},
   "source": [
    "Langkah 6 - kesimpulan"
   ]
  },
  {
   "cell_type": "markdown",
   "id": "d992886b",
   "metadata": {},
   "source": [
    "Karena hasil dari keputusan adalah **Gagal tolak H0** maka **Rata-rata BMI laki-laki maupun perempuan cenderung sama**"
   ]
  }
 ],
 "metadata": {
  "kernelspec": {
   "display_name": "Python 3 (ipykernel)",
   "language": "python",
   "name": "python3"
  },
  "language_info": {
   "codemirror_mode": {
    "name": "ipython",
    "version": 3
   },
   "file_extension": ".py",
   "mimetype": "text/x-python",
   "name": "python",
   "nbconvert_exporter": "python",
   "pygments_lexer": "ipython3",
   "version": "3.9.12"
  }
 },
 "nbformat": 4,
 "nbformat_minor": 5
}
