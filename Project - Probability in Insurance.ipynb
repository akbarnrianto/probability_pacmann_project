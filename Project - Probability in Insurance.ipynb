{
 "cells": [
  {
   "cell_type": "code",
   "execution_count": 1,
   "id": "50491796",
   "metadata": {},
   "outputs": [],
   "source": [
    "# importing library\n",
    "import pandas as pd\n",
    "import numpy as np\n",
    "import matplotlib.pyplot as plt"
   ]
  },
  {
   "cell_type": "code",
   "execution_count": 2,
   "id": "088ed32b",
   "metadata": {},
   "outputs": [
    {
     "data": {
      "text/html": [
       "<div>\n",
       "<style scoped>\n",
       "    .dataframe tbody tr th:only-of-type {\n",
       "        vertical-align: middle;\n",
       "    }\n",
       "\n",
       "    .dataframe tbody tr th {\n",
       "        vertical-align: top;\n",
       "    }\n",
       "\n",
       "    .dataframe thead th {\n",
       "        text-align: right;\n",
       "    }\n",
       "</style>\n",
       "<table border=\"1\" class=\"dataframe\">\n",
       "  <thead>\n",
       "    <tr style=\"text-align: right;\">\n",
       "      <th></th>\n",
       "      <th>age</th>\n",
       "      <th>sex</th>\n",
       "      <th>bmi</th>\n",
       "      <th>children</th>\n",
       "      <th>smoker</th>\n",
       "      <th>region</th>\n",
       "      <th>charges</th>\n",
       "    </tr>\n",
       "  </thead>\n",
       "  <tbody>\n",
       "    <tr>\n",
       "      <th>0</th>\n",
       "      <td>19</td>\n",
       "      <td>female</td>\n",
       "      <td>27.900</td>\n",
       "      <td>0</td>\n",
       "      <td>yes</td>\n",
       "      <td>southwest</td>\n",
       "      <td>16884.92400</td>\n",
       "    </tr>\n",
       "    <tr>\n",
       "      <th>1</th>\n",
       "      <td>18</td>\n",
       "      <td>male</td>\n",
       "      <td>33.770</td>\n",
       "      <td>1</td>\n",
       "      <td>no</td>\n",
       "      <td>southeast</td>\n",
       "      <td>1725.55230</td>\n",
       "    </tr>\n",
       "    <tr>\n",
       "      <th>2</th>\n",
       "      <td>28</td>\n",
       "      <td>male</td>\n",
       "      <td>33.000</td>\n",
       "      <td>3</td>\n",
       "      <td>no</td>\n",
       "      <td>southeast</td>\n",
       "      <td>4449.46200</td>\n",
       "    </tr>\n",
       "    <tr>\n",
       "      <th>3</th>\n",
       "      <td>33</td>\n",
       "      <td>male</td>\n",
       "      <td>22.705</td>\n",
       "      <td>0</td>\n",
       "      <td>no</td>\n",
       "      <td>northwest</td>\n",
       "      <td>21984.47061</td>\n",
       "    </tr>\n",
       "    <tr>\n",
       "      <th>4</th>\n",
       "      <td>32</td>\n",
       "      <td>male</td>\n",
       "      <td>28.880</td>\n",
       "      <td>0</td>\n",
       "      <td>no</td>\n",
       "      <td>northwest</td>\n",
       "      <td>3866.85520</td>\n",
       "    </tr>\n",
       "    <tr>\n",
       "      <th>...</th>\n",
       "      <td>...</td>\n",
       "      <td>...</td>\n",
       "      <td>...</td>\n",
       "      <td>...</td>\n",
       "      <td>...</td>\n",
       "      <td>...</td>\n",
       "      <td>...</td>\n",
       "    </tr>\n",
       "    <tr>\n",
       "      <th>1333</th>\n",
       "      <td>50</td>\n",
       "      <td>male</td>\n",
       "      <td>30.970</td>\n",
       "      <td>3</td>\n",
       "      <td>no</td>\n",
       "      <td>northwest</td>\n",
       "      <td>10600.54830</td>\n",
       "    </tr>\n",
       "    <tr>\n",
       "      <th>1334</th>\n",
       "      <td>18</td>\n",
       "      <td>female</td>\n",
       "      <td>31.920</td>\n",
       "      <td>0</td>\n",
       "      <td>no</td>\n",
       "      <td>northeast</td>\n",
       "      <td>2205.98080</td>\n",
       "    </tr>\n",
       "    <tr>\n",
       "      <th>1335</th>\n",
       "      <td>18</td>\n",
       "      <td>female</td>\n",
       "      <td>36.850</td>\n",
       "      <td>0</td>\n",
       "      <td>no</td>\n",
       "      <td>southeast</td>\n",
       "      <td>1629.83350</td>\n",
       "    </tr>\n",
       "    <tr>\n",
       "      <th>1336</th>\n",
       "      <td>21</td>\n",
       "      <td>female</td>\n",
       "      <td>25.800</td>\n",
       "      <td>0</td>\n",
       "      <td>no</td>\n",
       "      <td>southwest</td>\n",
       "      <td>2007.94500</td>\n",
       "    </tr>\n",
       "    <tr>\n",
       "      <th>1337</th>\n",
       "      <td>61</td>\n",
       "      <td>female</td>\n",
       "      <td>29.070</td>\n",
       "      <td>0</td>\n",
       "      <td>yes</td>\n",
       "      <td>northwest</td>\n",
       "      <td>29141.36030</td>\n",
       "    </tr>\n",
       "  </tbody>\n",
       "</table>\n",
       "<p>1338 rows × 7 columns</p>\n",
       "</div>"
      ],
      "text/plain": [
       "      age     sex     bmi  children smoker     region      charges\n",
       "0      19  female  27.900         0    yes  southwest  16884.92400\n",
       "1      18    male  33.770         1     no  southeast   1725.55230\n",
       "2      28    male  33.000         3     no  southeast   4449.46200\n",
       "3      33    male  22.705         0     no  northwest  21984.47061\n",
       "4      32    male  28.880         0     no  northwest   3866.85520\n",
       "...   ...     ...     ...       ...    ...        ...          ...\n",
       "1333   50    male  30.970         3     no  northwest  10600.54830\n",
       "1334   18  female  31.920         0     no  northeast   2205.98080\n",
       "1335   18  female  36.850         0     no  southeast   1629.83350\n",
       "1336   21  female  25.800         0     no  southwest   2007.94500\n",
       "1337   61  female  29.070         0    yes  northwest  29141.36030\n",
       "\n",
       "[1338 rows x 7 columns]"
      ]
     },
     "execution_count": 2,
     "metadata": {},
     "output_type": "execute_result"
    }
   ],
   "source": [
    "# read data\n",
    "data = pd.read_csv('insurance.csv')\n",
    "data"
   ]
  },
  {
   "cell_type": "code",
   "execution_count": 3,
   "id": "103fa6d6-46df-46d0-9676-0514ef084491",
   "metadata": {},
   "outputs": [
    {
     "name": "stdout",
     "output_type": "stream",
     "text": [
      "<class 'pandas.core.frame.DataFrame'>\n",
      "RangeIndex: 1338 entries, 0 to 1337\n",
      "Data columns (total 7 columns):\n",
      " #   Column    Non-Null Count  Dtype  \n",
      "---  ------    --------------  -----  \n",
      " 0   age       1338 non-null   int64  \n",
      " 1   sex       1338 non-null   object \n",
      " 2   bmi       1338 non-null   float64\n",
      " 3   children  1338 non-null   int64  \n",
      " 4   smoker    1338 non-null   object \n",
      " 5   region    1338 non-null   object \n",
      " 6   charges   1338 non-null   float64\n",
      "dtypes: float64(2), int64(2), object(3)\n",
      "memory usage: 73.3+ KB\n"
     ]
    }
   ],
   "source": [
    "data.info()"
   ]
  },
  {
   "cell_type": "markdown",
   "id": "49c25441",
   "metadata": {},
   "source": [
    "# Descriptive Statistics\n",
    "## Eksplorasi Data"
   ]
  },
  {
   "cell_type": "markdown",
   "id": "dd93df28",
   "metadata": {},
   "source": [
    "1. Rata-rata umur pengguna asuransi?"
   ]
  },
  {
   "cell_type": "code",
   "execution_count": 4,
   "id": "1056b57b",
   "metadata": {},
   "outputs": [
    {
     "name": "stdout",
     "output_type": "stream",
     "text": [
      "Rata-rata umur pengguna asuransi adalah 39.0 tahun\n"
     ]
    }
   ],
   "source": [
    "mean_umur = data['age'].mean()\n",
    "print('Rata-rata umur pengguna asuransi adalah', round(mean_umur,0), 'tahun')"
   ]
  },
  {
   "cell_type": "markdown",
   "id": "2f62edda",
   "metadata": {},
   "source": [
    "2. Rata-rata nilai BMI dari pengguna yang merokok?"
   ]
  },
  {
   "cell_type": "code",
   "execution_count": 5,
   "id": "e983cde2",
   "metadata": {},
   "outputs": [
    {
     "name": "stdout",
     "output_type": "stream",
     "text": [
      "Rata-rata BMI dari pengguna yang merokok adalah 31.0\n"
     ]
    }
   ],
   "source": [
    "smoker = np.array(data['bmi'].loc[data['smoker']=='yes']).mean()\n",
    "print('Rata-rata BMI dari pengguna yang merokok adalah', round(smoker,0))"
   ]
  },
  {
   "cell_type": "markdown",
   "id": "3ae28659",
   "metadata": {},
   "source": [
    "3. Apakah variansi dari data charges perokok dan non perokok sama?"
   ]
  },
  {
   "cell_type": "code",
   "execution_count": 6,
   "id": "a296172c",
   "metadata": {},
   "outputs": [
    {
     "data": {
      "text/html": [
       "<div>\n",
       "<style scoped>\n",
       "    .dataframe tbody tr th:only-of-type {\n",
       "        vertical-align: middle;\n",
       "    }\n",
       "\n",
       "    .dataframe tbody tr th {\n",
       "        vertical-align: top;\n",
       "    }\n",
       "\n",
       "    .dataframe thead tr th {\n",
       "        text-align: left;\n",
       "    }\n",
       "\n",
       "    .dataframe thead tr:last-of-type th {\n",
       "        text-align: right;\n",
       "    }\n",
       "</style>\n",
       "<table border=\"1\" class=\"dataframe\">\n",
       "  <thead>\n",
       "    <tr>\n",
       "      <th></th>\n",
       "      <th>charges</th>\n",
       "    </tr>\n",
       "    <tr>\n",
       "      <th></th>\n",
       "      <th>var</th>\n",
       "    </tr>\n",
       "    <tr>\n",
       "      <th>smoker</th>\n",
       "      <th></th>\n",
       "    </tr>\n",
       "  </thead>\n",
       "  <tbody>\n",
       "    <tr>\n",
       "      <th>no</th>\n",
       "      <td>35925420.0</td>\n",
       "    </tr>\n",
       "    <tr>\n",
       "      <th>yes</th>\n",
       "      <td>133207311.0</td>\n",
       "    </tr>\n",
       "  </tbody>\n",
       "</table>\n",
       "</div>"
      ],
      "text/plain": [
       "            charges\n",
       "                var\n",
       "smoker             \n",
       "no       35925420.0\n",
       "yes     133207311.0"
      ]
     },
     "execution_count": 6,
     "metadata": {},
     "output_type": "execute_result"
    }
   ],
   "source": [
    "data.groupby(['smoker']).agg({'charges':['var']}).round()"
   ]
  },
  {
   "cell_type": "markdown",
   "id": "793d55fb",
   "metadata": {},
   "source": [
    "Variansi data charges perokok dan non perokok **tidak sama**"
   ]
  },
  {
   "cell_type": "markdown",
   "id": "6b53c45c",
   "metadata": {},
   "source": [
    "4. Apakah rata-rata umur perempuan dan laki-laki yang merokok sama?"
   ]
  },
  {
   "cell_type": "code",
   "execution_count": 7,
   "id": "b99acd0a-3921-46c8-94ad-188044b4c82c",
   "metadata": {},
   "outputs": [
    {
     "data": {
      "text/html": [
       "<div>\n",
       "<style scoped>\n",
       "    .dataframe tbody tr th:only-of-type {\n",
       "        vertical-align: middle;\n",
       "    }\n",
       "\n",
       "    .dataframe tbody tr th {\n",
       "        vertical-align: top;\n",
       "    }\n",
       "\n",
       "    .dataframe thead th {\n",
       "        text-align: right;\n",
       "    }\n",
       "</style>\n",
       "<table border=\"1\" class=\"dataframe\">\n",
       "  <thead>\n",
       "    <tr style=\"text-align: right;\">\n",
       "      <th></th>\n",
       "      <th>age</th>\n",
       "      <th>sex</th>\n",
       "      <th>bmi</th>\n",
       "      <th>children</th>\n",
       "      <th>smoker</th>\n",
       "      <th>region</th>\n",
       "      <th>charges</th>\n",
       "    </tr>\n",
       "  </thead>\n",
       "  <tbody>\n",
       "    <tr>\n",
       "      <th>0</th>\n",
       "      <td>19</td>\n",
       "      <td>female</td>\n",
       "      <td>27.90</td>\n",
       "      <td>0</td>\n",
       "      <td>yes</td>\n",
       "      <td>southwest</td>\n",
       "      <td>16884.9240</td>\n",
       "    </tr>\n",
       "    <tr>\n",
       "      <th>11</th>\n",
       "      <td>62</td>\n",
       "      <td>female</td>\n",
       "      <td>26.29</td>\n",
       "      <td>0</td>\n",
       "      <td>yes</td>\n",
       "      <td>southeast</td>\n",
       "      <td>27808.7251</td>\n",
       "    </tr>\n",
       "    <tr>\n",
       "      <th>14</th>\n",
       "      <td>27</td>\n",
       "      <td>male</td>\n",
       "      <td>42.13</td>\n",
       "      <td>0</td>\n",
       "      <td>yes</td>\n",
       "      <td>southeast</td>\n",
       "      <td>39611.7577</td>\n",
       "    </tr>\n",
       "    <tr>\n",
       "      <th>19</th>\n",
       "      <td>30</td>\n",
       "      <td>male</td>\n",
       "      <td>35.30</td>\n",
       "      <td>0</td>\n",
       "      <td>yes</td>\n",
       "      <td>southwest</td>\n",
       "      <td>36837.4670</td>\n",
       "    </tr>\n",
       "    <tr>\n",
       "      <th>23</th>\n",
       "      <td>34</td>\n",
       "      <td>female</td>\n",
       "      <td>31.92</td>\n",
       "      <td>1</td>\n",
       "      <td>yes</td>\n",
       "      <td>northeast</td>\n",
       "      <td>37701.8768</td>\n",
       "    </tr>\n",
       "  </tbody>\n",
       "</table>\n",
       "</div>"
      ],
      "text/plain": [
       "    age     sex    bmi  children smoker     region     charges\n",
       "0    19  female  27.90         0    yes  southwest  16884.9240\n",
       "11   62  female  26.29         0    yes  southeast  27808.7251\n",
       "14   27    male  42.13         0    yes  southeast  39611.7577\n",
       "19   30    male  35.30         0    yes  southwest  36837.4670\n",
       "23   34  female  31.92         1    yes  northeast  37701.8768"
      ]
     },
     "execution_count": 7,
     "metadata": {},
     "output_type": "execute_result"
    }
   ],
   "source": [
    "smoker_yes = data[(data[\"smoker\"]==\"yes\")]\n",
    "smoker_yes.head()"
   ]
  },
  {
   "cell_type": "code",
   "execution_count": 8,
   "id": "320767fc",
   "metadata": {},
   "outputs": [
    {
     "data": {
      "text/html": [
       "<div>\n",
       "<style scoped>\n",
       "    .dataframe tbody tr th:only-of-type {\n",
       "        vertical-align: middle;\n",
       "    }\n",
       "\n",
       "    .dataframe tbody tr th {\n",
       "        vertical-align: top;\n",
       "    }\n",
       "\n",
       "    .dataframe thead tr th {\n",
       "        text-align: left;\n",
       "    }\n",
       "\n",
       "    .dataframe thead tr:last-of-type th {\n",
       "        text-align: right;\n",
       "    }\n",
       "</style>\n",
       "<table border=\"1\" class=\"dataframe\">\n",
       "  <thead>\n",
       "    <tr>\n",
       "      <th></th>\n",
       "      <th></th>\n",
       "      <th>age</th>\n",
       "    </tr>\n",
       "    <tr>\n",
       "      <th></th>\n",
       "      <th></th>\n",
       "      <th>mean</th>\n",
       "    </tr>\n",
       "    <tr>\n",
       "      <th>smoker</th>\n",
       "      <th>sex</th>\n",
       "      <th></th>\n",
       "    </tr>\n",
       "  </thead>\n",
       "  <tbody>\n",
       "    <tr>\n",
       "      <th rowspan=\"2\" valign=\"top\">yes</th>\n",
       "      <th>female</th>\n",
       "      <td>39.0</td>\n",
       "    </tr>\n",
       "    <tr>\n",
       "      <th>male</th>\n",
       "      <td>38.0</td>\n",
       "    </tr>\n",
       "  </tbody>\n",
       "</table>\n",
       "</div>"
      ],
      "text/plain": [
       "                age\n",
       "               mean\n",
       "smoker sex         \n",
       "yes    female  39.0\n",
       "       male    38.0"
      ]
     },
     "execution_count": 8,
     "metadata": {},
     "output_type": "execute_result"
    }
   ],
   "source": [
    "smoker_yes.groupby(['smoker', 'sex']).agg({'age':['mean']}).round(0)"
   ]
  },
  {
   "cell_type": "markdown",
   "id": "d954165b",
   "metadata": {},
   "source": [
    "Diketahui bahwa rata-rata umur dari laki-laki dan perempuan yang merokok **tidak sama**, namun hampir mirip"
   ]
  },
  {
   "cell_type": "markdown",
   "id": "959aa0a7",
   "metadata": {},
   "source": [
    "5. Mana yang lebih tinggi, rata-rata tagihan kesehatan perokok atau non perokok?"
   ]
  },
  {
   "cell_type": "code",
   "execution_count": 9,
   "id": "873df078",
   "metadata": {},
   "outputs": [
    {
     "data": {
      "text/html": [
       "<div>\n",
       "<style scoped>\n",
       "    .dataframe tbody tr th:only-of-type {\n",
       "        vertical-align: middle;\n",
       "    }\n",
       "\n",
       "    .dataframe tbody tr th {\n",
       "        vertical-align: top;\n",
       "    }\n",
       "\n",
       "    .dataframe thead tr th {\n",
       "        text-align: left;\n",
       "    }\n",
       "\n",
       "    .dataframe thead tr:last-of-type th {\n",
       "        text-align: right;\n",
       "    }\n",
       "</style>\n",
       "<table border=\"1\" class=\"dataframe\">\n",
       "  <thead>\n",
       "    <tr>\n",
       "      <th></th>\n",
       "      <th>charges</th>\n",
       "    </tr>\n",
       "    <tr>\n",
       "      <th></th>\n",
       "      <th>mean</th>\n",
       "    </tr>\n",
       "    <tr>\n",
       "      <th>smoker</th>\n",
       "      <th></th>\n",
       "    </tr>\n",
       "  </thead>\n",
       "  <tbody>\n",
       "    <tr>\n",
       "      <th>no</th>\n",
       "      <td>8434.27</td>\n",
       "    </tr>\n",
       "    <tr>\n",
       "      <th>yes</th>\n",
       "      <td>32050.23</td>\n",
       "    </tr>\n",
       "  </tbody>\n",
       "</table>\n",
       "</div>"
      ],
      "text/plain": [
       "         charges\n",
       "            mean\n",
       "smoker          \n",
       "no       8434.27\n",
       "yes     32050.23"
      ]
     },
     "execution_count": 9,
     "metadata": {},
     "output_type": "execute_result"
    }
   ],
   "source": [
    "data.groupby(['smoker']).agg({'charges':['mean']}).round(2)"
   ]
  },
  {
   "cell_type": "markdown",
   "id": "18ed36c2",
   "metadata": {},
   "source": [
    "Diketahui rata-rata tagihan perokok **lebih tinggi** daripada non perokok"
   ]
  },
  {
   "cell_type": "markdown",
   "id": "7d47d2c0",
   "metadata": {},
   "source": [
    "6. BMI mana yang lebih tinggi, laki-laki atau perempuan?"
   ]
  },
  {
   "cell_type": "code",
   "execution_count": 10,
   "id": "63a2d6a7",
   "metadata": {},
   "outputs": [
    {
     "data": {
      "text/html": [
       "<div>\n",
       "<style scoped>\n",
       "    .dataframe tbody tr th:only-of-type {\n",
       "        vertical-align: middle;\n",
       "    }\n",
       "\n",
       "    .dataframe tbody tr th {\n",
       "        vertical-align: top;\n",
       "    }\n",
       "\n",
       "    .dataframe thead tr th {\n",
       "        text-align: left;\n",
       "    }\n",
       "\n",
       "    .dataframe thead tr:last-of-type th {\n",
       "        text-align: right;\n",
       "    }\n",
       "</style>\n",
       "<table border=\"1\" class=\"dataframe\">\n",
       "  <thead>\n",
       "    <tr>\n",
       "      <th></th>\n",
       "      <th>bmi</th>\n",
       "    </tr>\n",
       "    <tr>\n",
       "      <th></th>\n",
       "      <th>mean</th>\n",
       "    </tr>\n",
       "    <tr>\n",
       "      <th>sex</th>\n",
       "      <th></th>\n",
       "    </tr>\n",
       "  </thead>\n",
       "  <tbody>\n",
       "    <tr>\n",
       "      <th>female</th>\n",
       "      <td>30.38</td>\n",
       "    </tr>\n",
       "    <tr>\n",
       "      <th>male</th>\n",
       "      <td>30.94</td>\n",
       "    </tr>\n",
       "  </tbody>\n",
       "</table>\n",
       "</div>"
      ],
      "text/plain": [
       "          bmi\n",
       "         mean\n",
       "sex          \n",
       "female  30.38\n",
       "male    30.94"
      ]
     },
     "execution_count": 10,
     "metadata": {},
     "output_type": "execute_result"
    }
   ],
   "source": [
    "data.groupby(['sex']).agg({'bmi':['mean']}).round(2)"
   ]
  },
  {
   "cell_type": "markdown",
   "id": "a10d57ce",
   "metadata": {},
   "source": [
    "Diketahui BMI laki-laki **lebih tinggi**"
   ]
  },
  {
   "cell_type": "markdown",
   "id": "b370b9d9",
   "metadata": {},
   "source": [
    "# Variabel Kategorik (PMF)"
   ]
  },
  {
   "cell_type": "markdown",
   "id": "80e8e335",
   "metadata": {},
   "source": [
    "1. Gender mana yang memiliki tagihan paling tinggi?"
   ]
  },
  {
   "cell_type": "code",
   "execution_count": 11,
   "id": "0ac61267",
   "metadata": {},
   "outputs": [
    {
     "data": {
      "text/html": [
       "<div>\n",
       "<style scoped>\n",
       "    .dataframe tbody tr th:only-of-type {\n",
       "        vertical-align: middle;\n",
       "    }\n",
       "\n",
       "    .dataframe tbody tr th {\n",
       "        vertical-align: top;\n",
       "    }\n",
       "\n",
       "    .dataframe thead tr th {\n",
       "        text-align: left;\n",
       "    }\n",
       "\n",
       "    .dataframe thead tr:last-of-type th {\n",
       "        text-align: right;\n",
       "    }\n",
       "</style>\n",
       "<table border=\"1\" class=\"dataframe\">\n",
       "  <thead>\n",
       "    <tr>\n",
       "      <th></th>\n",
       "      <th>charges</th>\n",
       "    </tr>\n",
       "    <tr>\n",
       "      <th></th>\n",
       "      <th>mean</th>\n",
       "    </tr>\n",
       "    <tr>\n",
       "      <th>sex</th>\n",
       "      <th></th>\n",
       "    </tr>\n",
       "  </thead>\n",
       "  <tbody>\n",
       "    <tr>\n",
       "      <th>female</th>\n",
       "      <td>12569.58</td>\n",
       "    </tr>\n",
       "    <tr>\n",
       "      <th>male</th>\n",
       "      <td>13956.75</td>\n",
       "    </tr>\n",
       "  </tbody>\n",
       "</table>\n",
       "</div>"
      ],
      "text/plain": [
       "         charges\n",
       "            mean\n",
       "sex             \n",
       "female  12569.58\n",
       "male    13956.75"
      ]
     },
     "execution_count": 11,
     "metadata": {},
     "output_type": "execute_result"
    }
   ],
   "source": [
    "data.groupby(['sex']).agg({'charges':['mean']}).round(2)"
   ]
  },
  {
   "cell_type": "markdown",
   "id": "d2963c87",
   "metadata": {},
   "source": [
    "Diketahui gender male/laki-laki memiliki **tagihan paling tinggi**"
   ]
  },
  {
   "cell_type": "markdown",
   "id": "810088d7",
   "metadata": {},
   "source": [
    "2. Distribusi Peluang Tagihan di setiap region?"
   ]
  },
  {
   "cell_type": "code",
   "execution_count": 12,
   "id": "d40f6b49",
   "metadata": {},
   "outputs": [
    {
     "data": {
      "text/html": [
       "<div>\n",
       "<style scoped>\n",
       "    .dataframe tbody tr th:only-of-type {\n",
       "        vertical-align: middle;\n",
       "    }\n",
       "\n",
       "    .dataframe tbody tr th {\n",
       "        vertical-align: top;\n",
       "    }\n",
       "\n",
       "    .dataframe thead tr th {\n",
       "        text-align: left;\n",
       "    }\n",
       "\n",
       "    .dataframe thead tr:last-of-type th {\n",
       "        text-align: right;\n",
       "    }\n",
       "</style>\n",
       "<table border=\"1\" class=\"dataframe\">\n",
       "  <thead>\n",
       "    <tr>\n",
       "      <th></th>\n",
       "      <th>charges</th>\n",
       "    </tr>\n",
       "    <tr>\n",
       "      <th></th>\n",
       "      <th>mean</th>\n",
       "    </tr>\n",
       "    <tr>\n",
       "      <th>region</th>\n",
       "      <th></th>\n",
       "    </tr>\n",
       "  </thead>\n",
       "  <tbody>\n",
       "    <tr>\n",
       "      <th>northeast</th>\n",
       "      <td>13406.0</td>\n",
       "    </tr>\n",
       "    <tr>\n",
       "      <th>northwest</th>\n",
       "      <td>12418.0</td>\n",
       "    </tr>\n",
       "    <tr>\n",
       "      <th>southeast</th>\n",
       "      <td>14735.0</td>\n",
       "    </tr>\n",
       "    <tr>\n",
       "      <th>southwest</th>\n",
       "      <td>12347.0</td>\n",
       "    </tr>\n",
       "  </tbody>\n",
       "</table>\n",
       "</div>"
      ],
      "text/plain": [
       "           charges\n",
       "              mean\n",
       "region            \n",
       "northeast  13406.0\n",
       "northwest  12418.0\n",
       "southeast  14735.0\n",
       "southwest  12347.0"
      ]
     },
     "execution_count": 12,
     "metadata": {},
     "output_type": "execute_result"
    }
   ],
   "source": [
    "peluang_tagihan = data.groupby(['region']).agg({'charges':['mean']}).round()\n",
    "peluang_tagihan"
   ]
  },
  {
   "cell_type": "code",
   "execution_count": 13,
   "id": "4c61e2c4",
   "metadata": {},
   "outputs": [
    {
     "name": "stdout",
     "output_type": "stream",
     "text": [
      "distribusi peluang northeast = 25 %\n",
      "distribusi peluang nortwest = 23 %\n",
      "distribusi peluang southeast = 28 %\n",
      "distribusi peluang southwest = 23 %\n"
     ]
    }
   ],
   "source": [
    "total = peluang_tagihan['charges','mean'].sum()\n",
    "distribusi_northeast = round(((peluang_tagihan['charges','mean'][0])/total)*100.0)\n",
    "distribusi_northwest = round(((peluang_tagihan['charges','mean'][1])/total)*100.0)\n",
    "distribusi_southeast = round(((peluang_tagihan['charges','mean'][2])/total)*100.0)\n",
    "distribusi_southwest = round(((peluang_tagihan['charges','mean'][3])/total)*100.0)\n",
    "\n",
    "print('distribusi peluang northeast =',distribusi_northeast,'%')\n",
    "print('distribusi peluang nortwest =',distribusi_northwest,'%')\n",
    "print('distribusi peluang southeast =',distribusi_southeast,'%')\n",
    "print('distribusi peluang southwest =',distribusi_southwest,'%')"
   ]
  },
  {
   "cell_type": "markdown",
   "id": "ff092d1c",
   "metadata": {},
   "source": [
    "3. Apakah setiap region memiliki proporsi data banyak orang yang sama? akan dijabarkan dibawah ini"
   ]
  },
  {
   "cell_type": "code",
   "execution_count": 14,
   "id": "39ccce13",
   "metadata": {},
   "outputs": [
    {
     "data": {
      "text/html": [
       "<div>\n",
       "<style scoped>\n",
       "    .dataframe tbody tr th:only-of-type {\n",
       "        vertical-align: middle;\n",
       "    }\n",
       "\n",
       "    .dataframe tbody tr th {\n",
       "        vertical-align: top;\n",
       "    }\n",
       "\n",
       "    .dataframe thead tr th {\n",
       "        text-align: left;\n",
       "    }\n",
       "</style>\n",
       "<table border=\"1\" class=\"dataframe\">\n",
       "  <thead>\n",
       "    <tr>\n",
       "      <th></th>\n",
       "      <th>region</th>\n",
       "      <th>charges</th>\n",
       "    </tr>\n",
       "    <tr>\n",
       "      <th></th>\n",
       "      <th></th>\n",
       "      <th>count</th>\n",
       "    </tr>\n",
       "  </thead>\n",
       "  <tbody>\n",
       "    <tr>\n",
       "      <th>0</th>\n",
       "      <td>northeast</td>\n",
       "      <td>324</td>\n",
       "    </tr>\n",
       "    <tr>\n",
       "      <th>1</th>\n",
       "      <td>northwest</td>\n",
       "      <td>325</td>\n",
       "    </tr>\n",
       "    <tr>\n",
       "      <th>2</th>\n",
       "      <td>southeast</td>\n",
       "      <td>364</td>\n",
       "    </tr>\n",
       "    <tr>\n",
       "      <th>3</th>\n",
       "      <td>southwest</td>\n",
       "      <td>325</td>\n",
       "    </tr>\n",
       "  </tbody>\n",
       "</table>\n",
       "</div>"
      ],
      "text/plain": [
       "      region charges\n",
       "               count\n",
       "0  northeast     324\n",
       "1  northwest     325\n",
       "2  southeast     364\n",
       "3  southwest     325"
      ]
     },
     "execution_count": 14,
     "metadata": {},
     "output_type": "execute_result"
    }
   ],
   "source": [
    "proporsi_region = data.groupby(['region']).agg({'charges':['count']}).reset_index()\n",
    "proporsi_region"
   ]
  },
  {
   "cell_type": "code",
   "execution_count": 15,
   "id": "7a27e274",
   "metadata": {},
   "outputs": [
    {
     "name": "stdout",
     "output_type": "stream",
     "text": [
      "proporsi data northeast = 24 %\n",
      "proporsi data nortwest = 24 %\n",
      "proporsi data southeast = 27 %\n",
      "proporsi data southwest = 24 %\n",
      "jawabannya adalah tidak\n"
     ]
    }
   ],
   "source": [
    "total = proporsi_region['charges','count'].sum()\n",
    "proporsi_northeast = round(((proporsi_region['charges','count'][0])/total)*100.0)\n",
    "proporsi_northwest = round(((proporsi_region['charges','count'][1])/total)*100.0)\n",
    "proporsi_southeast = round(((proporsi_region['charges','count'][2])/total)*100.0)\n",
    "proporsi_southwest = round(((proporsi_region['charges','count'][3])/total)*100.0)\n",
    "\n",
    "print('proporsi data northeast =',proporsi_northeast,'%')\n",
    "print('proporsi data nortwest =',proporsi_northwest,'%')\n",
    "print('proporsi data southeast =',proporsi_southeast,'%')\n",
    "print('proporsi data southwest =',proporsi_southwest,'%')\n",
    "print('jawabannya adalah tidak')"
   ]
  },
  {
   "cell_type": "markdown",
   "id": "00d251a0",
   "metadata": {},
   "source": [
    "4. Mana yang lebih tinggi, proporsi perokok atau non perokok?"
   ]
  },
  {
   "cell_type": "code",
   "execution_count": 16,
   "id": "973cd71b",
   "metadata": {},
   "outputs": [
    {
     "data": {
      "text/html": [
       "<div>\n",
       "<style scoped>\n",
       "    .dataframe tbody tr th:only-of-type {\n",
       "        vertical-align: middle;\n",
       "    }\n",
       "\n",
       "    .dataframe tbody tr th {\n",
       "        vertical-align: top;\n",
       "    }\n",
       "\n",
       "    .dataframe thead tr th {\n",
       "        text-align: left;\n",
       "    }\n",
       "</style>\n",
       "<table border=\"1\" class=\"dataframe\">\n",
       "  <thead>\n",
       "    <tr>\n",
       "      <th></th>\n",
       "      <th>smoker</th>\n",
       "      <th>charges</th>\n",
       "    </tr>\n",
       "    <tr>\n",
       "      <th></th>\n",
       "      <th></th>\n",
       "      <th>count</th>\n",
       "    </tr>\n",
       "  </thead>\n",
       "  <tbody>\n",
       "    <tr>\n",
       "      <th>0</th>\n",
       "      <td>no</td>\n",
       "      <td>1064</td>\n",
       "    </tr>\n",
       "    <tr>\n",
       "      <th>1</th>\n",
       "      <td>yes</td>\n",
       "      <td>274</td>\n",
       "    </tr>\n",
       "  </tbody>\n",
       "</table>\n",
       "</div>"
      ],
      "text/plain": [
       "  smoker charges\n",
       "           count\n",
       "0     no    1064\n",
       "1    yes     274"
      ]
     },
     "execution_count": 16,
     "metadata": {},
     "output_type": "execute_result"
    }
   ],
   "source": [
    "proporsi_perokok = data.groupby(['smoker']).agg({'charges':['count']}).reset_index()\n",
    "proporsi_perokok"
   ]
  },
  {
   "cell_type": "code",
   "execution_count": 17,
   "id": "8f47850f",
   "metadata": {},
   "outputs": [
    {
     "name": "stdout",
     "output_type": "stream",
     "text": [
      "proporsi non_perokok = 80 %\n",
      "proporsi perokok = 20 %\n",
      "proporsi non_perokok lebih besar daripada perokok\n"
     ]
    }
   ],
   "source": [
    "total = proporsi_perokok['charges','count'].sum()\n",
    "proporsi_non_perokok = round(((proporsi_perokok['charges','count'][0])/total)*100.0)\n",
    "proporsi_perokok = round(((proporsi_perokok['charges','count'][1])/total)*100.0)\n",
    "\n",
    "print('proporsi non_perokok =',proporsi_non_perokok,'%')\n",
    "print('proporsi perokok =',proporsi_perokok,'%')\n",
    "print('proporsi non_perokok lebih besar daripada perokok')"
   ]
  },
  {
   "cell_type": "markdown",
   "id": "666414a0",
   "metadata": {},
   "source": [
    "untuk soal no 5. dan no 6. menggunakan data dibawah ini"
   ]
  },
  {
   "cell_type": "code",
   "execution_count": 18,
   "id": "6e160df1",
   "metadata": {},
   "outputs": [
    {
     "data": {
      "text/html": [
       "<div>\n",
       "<style scoped>\n",
       "    .dataframe tbody tr th:only-of-type {\n",
       "        vertical-align: middle;\n",
       "    }\n",
       "\n",
       "    .dataframe tbody tr th {\n",
       "        vertical-align: top;\n",
       "    }\n",
       "\n",
       "    .dataframe thead tr th {\n",
       "        text-align: left;\n",
       "    }\n",
       "</style>\n",
       "<table border=\"1\" class=\"dataframe\">\n",
       "  <thead>\n",
       "    <tr>\n",
       "      <th></th>\n",
       "      <th>sex</th>\n",
       "      <th>smoker</th>\n",
       "      <th>charges</th>\n",
       "    </tr>\n",
       "    <tr>\n",
       "      <th></th>\n",
       "      <th></th>\n",
       "      <th></th>\n",
       "      <th>count</th>\n",
       "    </tr>\n",
       "  </thead>\n",
       "  <tbody>\n",
       "    <tr>\n",
       "      <th>0</th>\n",
       "      <td>female</td>\n",
       "      <td>no</td>\n",
       "      <td>547</td>\n",
       "    </tr>\n",
       "    <tr>\n",
       "      <th>1</th>\n",
       "      <td>female</td>\n",
       "      <td>yes</td>\n",
       "      <td>115</td>\n",
       "    </tr>\n",
       "    <tr>\n",
       "      <th>2</th>\n",
       "      <td>male</td>\n",
       "      <td>no</td>\n",
       "      <td>517</td>\n",
       "    </tr>\n",
       "    <tr>\n",
       "      <th>3</th>\n",
       "      <td>male</td>\n",
       "      <td>yes</td>\n",
       "      <td>159</td>\n",
       "    </tr>\n",
       "  </tbody>\n",
       "</table>\n",
       "</div>"
      ],
      "text/plain": [
       "      sex smoker charges\n",
       "                   count\n",
       "0  female     no     547\n",
       "1  female    yes     115\n",
       "2    male     no     517\n",
       "3    male    yes     159"
      ]
     },
     "execution_count": 18,
     "metadata": {},
     "output_type": "execute_result"
    }
   ],
   "source": [
    "data_smoker = data.groupby(['sex','smoker']).agg({'charges':['count']}).reset_index()\n",
    "data_smoker"
   ]
  },
  {
   "cell_type": "markdown",
   "id": "b67fe5b2",
   "metadata": {},
   "source": [
    "5. Berapa peluang seseorang tersebut adalah perempuan jika dia perokok?"
   ]
  },
  {
   "cell_type": "code",
   "execution_count": 19,
   "id": "4dd3ff81",
   "metadata": {},
   "outputs": [
    {
     "name": "stdout",
     "output_type": "stream",
     "text": [
      "Peluang perempuan dan perokok 17.37 %\n"
     ]
    }
   ],
   "source": [
    "total_female = data_smoker['charges','count'][:2].sum()\n",
    "female_smoker = data_smoker['charges','count'][1]\n",
    "peluang = round(((female_smoker/total_female)*100),2)\n",
    "\n",
    "print('Peluang perempuan dan perokok',peluang,'%')"
   ]
  },
  {
   "cell_type": "markdown",
   "id": "70d9d749",
   "metadata": {},
   "source": [
    "6. Berapa peluang seseorang tersebut adalah laki-laki jika dia perokok?"
   ]
  },
  {
   "cell_type": "code",
   "execution_count": 20,
   "id": "85a7ec3f",
   "metadata": {},
   "outputs": [
    {
     "name": "stdout",
     "output_type": "stream",
     "text": [
      "Peluang laki-laki dan perokok 23.52 %\n"
     ]
    }
   ],
   "source": [
    "total_male = data_smoker['charges','count'][2:4].sum()\n",
    "male_smoker = data_smoker['charges','count'][3]\n",
    "peluang = round(((male_smoker/total_male)*100),2)\n",
    "\n",
    "print('Peluang laki-laki dan perokok',peluang,'%')"
   ]
  },
  {
   "cell_type": "markdown",
   "id": "b8197cfd",
   "metadata": {},
   "source": [
    "# Variabel Kontinu (CDF)"
   ]
  },
  {
   "cell_type": "markdown",
   "id": "36693803",
   "metadata": {},
   "source": [
    "1. Mencari Peluang Tagihan berdasarkan BMI"
   ]
  },
  {
   "cell_type": "code",
   "execution_count": 21,
   "id": "1f930c86",
   "metadata": {},
   "outputs": [
    {
     "data": {
      "text/html": [
       "<div>\n",
       "<style scoped>\n",
       "    .dataframe tbody tr th:only-of-type {\n",
       "        vertical-align: middle;\n",
       "    }\n",
       "\n",
       "    .dataframe tbody tr th {\n",
       "        vertical-align: top;\n",
       "    }\n",
       "\n",
       "    .dataframe thead th {\n",
       "        text-align: right;\n",
       "    }\n",
       "</style>\n",
       "<table border=\"1\" class=\"dataframe\">\n",
       "  <thead>\n",
       "    <tr style=\"text-align: right;\">\n",
       "      <th></th>\n",
       "      <th>age</th>\n",
       "      <th>sex</th>\n",
       "      <th>bmi</th>\n",
       "      <th>children</th>\n",
       "      <th>smoker</th>\n",
       "      <th>region</th>\n",
       "      <th>charges</th>\n",
       "      <th>bmi_category</th>\n",
       "    </tr>\n",
       "  </thead>\n",
       "  <tbody>\n",
       "    <tr>\n",
       "      <th>0</th>\n",
       "      <td>19</td>\n",
       "      <td>female</td>\n",
       "      <td>27.900</td>\n",
       "      <td>0</td>\n",
       "      <td>yes</td>\n",
       "      <td>southwest</td>\n",
       "      <td>16884.92400</td>\n",
       "      <td>BMI &gt; 25</td>\n",
       "    </tr>\n",
       "    <tr>\n",
       "      <th>1</th>\n",
       "      <td>18</td>\n",
       "      <td>male</td>\n",
       "      <td>33.770</td>\n",
       "      <td>1</td>\n",
       "      <td>no</td>\n",
       "      <td>southeast</td>\n",
       "      <td>1725.55230</td>\n",
       "      <td>BMI &gt; 25</td>\n",
       "    </tr>\n",
       "    <tr>\n",
       "      <th>2</th>\n",
       "      <td>28</td>\n",
       "      <td>male</td>\n",
       "      <td>33.000</td>\n",
       "      <td>3</td>\n",
       "      <td>no</td>\n",
       "      <td>southeast</td>\n",
       "      <td>4449.46200</td>\n",
       "      <td>BMI &gt; 25</td>\n",
       "    </tr>\n",
       "    <tr>\n",
       "      <th>3</th>\n",
       "      <td>33</td>\n",
       "      <td>male</td>\n",
       "      <td>22.705</td>\n",
       "      <td>0</td>\n",
       "      <td>no</td>\n",
       "      <td>northwest</td>\n",
       "      <td>21984.47061</td>\n",
       "      <td>BMI &lt;= 25</td>\n",
       "    </tr>\n",
       "    <tr>\n",
       "      <th>4</th>\n",
       "      <td>32</td>\n",
       "      <td>male</td>\n",
       "      <td>28.880</td>\n",
       "      <td>0</td>\n",
       "      <td>no</td>\n",
       "      <td>northwest</td>\n",
       "      <td>3866.85520</td>\n",
       "      <td>BMI &gt; 25</td>\n",
       "    </tr>\n",
       "  </tbody>\n",
       "</table>\n",
       "</div>"
      ],
      "text/plain": [
       "   age     sex     bmi  children smoker     region      charges bmi_category\n",
       "0   19  female  27.900         0    yes  southwest  16884.92400     BMI > 25\n",
       "1   18    male  33.770         1     no  southeast   1725.55230     BMI > 25\n",
       "2   28    male  33.000         3     no  southeast   4449.46200     BMI > 25\n",
       "3   33    male  22.705         0     no  northwest  21984.47061    BMI <= 25\n",
       "4   32    male  28.880         0     no  northwest   3866.85520     BMI > 25"
      ]
     },
     "execution_count": 21,
     "metadata": {},
     "output_type": "execute_result"
    }
   ],
   "source": [
    "# membuat kondisi BMI\n",
    "conditions = [\n",
    "    (data['bmi'] <= 25),\n",
    "    (data['bmi'] > 25)\n",
    "    ]\n",
    "# membuat value\n",
    "values = ['BMI <= 25', 'BMI > 25']\n",
    "\n",
    "# memasukan ke data insurance\n",
    "data['bmi_category'] = np.select(conditions, values)\n",
    "\n",
    "data.head()"
   ]
  },
  {
   "cell_type": "code",
   "execution_count": 22,
   "id": "db889dce",
   "metadata": {},
   "outputs": [
    {
     "data": {
      "text/html": [
       "<div>\n",
       "<style scoped>\n",
       "    .dataframe tbody tr th:only-of-type {\n",
       "        vertical-align: middle;\n",
       "    }\n",
       "\n",
       "    .dataframe tbody tr th {\n",
       "        vertical-align: top;\n",
       "    }\n",
       "\n",
       "    .dataframe thead tr th {\n",
       "        text-align: left;\n",
       "    }\n",
       "\n",
       "    .dataframe thead tr:last-of-type th {\n",
       "        text-align: right;\n",
       "    }\n",
       "</style>\n",
       "<table border=\"1\" class=\"dataframe\">\n",
       "  <thead>\n",
       "    <tr>\n",
       "      <th></th>\n",
       "      <th>charges</th>\n",
       "    </tr>\n",
       "    <tr>\n",
       "      <th></th>\n",
       "      <th>count</th>\n",
       "    </tr>\n",
       "    <tr>\n",
       "      <th>bmi_category</th>\n",
       "      <th></th>\n",
       "    </tr>\n",
       "  </thead>\n",
       "  <tbody>\n",
       "    <tr>\n",
       "      <th>BMI &lt;= 25</th>\n",
       "      <td>247</td>\n",
       "    </tr>\n",
       "    <tr>\n",
       "      <th>BMI &gt; 25</th>\n",
       "      <td>1091</td>\n",
       "    </tr>\n",
       "  </tbody>\n",
       "</table>\n",
       "</div>"
      ],
      "text/plain": [
       "             charges\n",
       "               count\n",
       "bmi_category        \n",
       "BMI <= 25        247\n",
       "BMI > 25        1091"
      ]
     },
     "execution_count": 22,
     "metadata": {},
     "output_type": "execute_result"
    }
   ],
   "source": [
    "bmi_category = data.groupby(['bmi_category']).agg({'charges':['count']})\n",
    "bmi_category"
   ]
  },
  {
   "cell_type": "code",
   "execution_count": 23,
   "id": "8845c985",
   "metadata": {},
   "outputs": [
    {
     "data": {
      "text/plain": [
       "1338"
      ]
     },
     "execution_count": 23,
     "metadata": {},
     "output_type": "execute_result"
    }
   ],
   "source": [
    "bmi_total = bmi_category['charges','count'].sum()\n",
    "bmi_total"
   ]
  },
  {
   "cell_type": "code",
   "execution_count": 24,
   "id": "d1d79fb2",
   "metadata": {},
   "outputs": [
    {
     "data": {
      "text/html": [
       "<div>\n",
       "<style scoped>\n",
       "    .dataframe tbody tr th:only-of-type {\n",
       "        vertical-align: middle;\n",
       "    }\n",
       "\n",
       "    .dataframe tbody tr th {\n",
       "        vertical-align: top;\n",
       "    }\n",
       "\n",
       "    .dataframe thead tr th {\n",
       "        text-align: left;\n",
       "    }\n",
       "\n",
       "    .dataframe thead tr:last-of-type th {\n",
       "        text-align: right;\n",
       "    }\n",
       "</style>\n",
       "<table border=\"1\" class=\"dataframe\">\n",
       "  <thead>\n",
       "    <tr>\n",
       "      <th></th>\n",
       "      <th>charges</th>\n",
       "      <th>distribusi_peluang (%)</th>\n",
       "    </tr>\n",
       "    <tr>\n",
       "      <th></th>\n",
       "      <th>count</th>\n",
       "      <th></th>\n",
       "    </tr>\n",
       "    <tr>\n",
       "      <th>bmi_category</th>\n",
       "      <th></th>\n",
       "      <th></th>\n",
       "    </tr>\n",
       "  </thead>\n",
       "  <tbody>\n",
       "    <tr>\n",
       "      <th>BMI &lt;= 25</th>\n",
       "      <td>247</td>\n",
       "      <td>18.46</td>\n",
       "    </tr>\n",
       "    <tr>\n",
       "      <th>BMI &gt; 25</th>\n",
       "      <td>1091</td>\n",
       "      <td>81.54</td>\n",
       "    </tr>\n",
       "  </tbody>\n",
       "</table>\n",
       "</div>"
      ],
      "text/plain": [
       "             charges distribusi_peluang (%)\n",
       "               count                       \n",
       "bmi_category                               \n",
       "BMI <= 25        247                  18.46\n",
       "BMI > 25        1091                  81.54"
      ]
     },
     "execution_count": 24,
     "metadata": {},
     "output_type": "execute_result"
    }
   ],
   "source": [
    "bmi_category['distribusi_peluang (%)'] = round((((bmi_category['charges',\n",
    "                                                               'count']/bmi_total)*100)),2)\n",
    "bmi_category"
   ]
  },
  {
   "cell_type": "markdown",
   "id": "699bd710",
   "metadata": {},
   "source": [
    "Dengan peluang **81,54%** didapatkan tagihan dari BMI diatas 25"
   ]
  },
  {
   "cell_type": "markdown",
   "id": "ffc314bd",
   "metadata": {},
   "source": [
    "2. Peluang seorang perokok dengan BMI diatas 25 akan mendapatkan tagihan kesehatan diatas 16700 **(P(charges > 16700 | bmi > 25 and smoker))**"
   ]
  },
  {
   "cell_type": "code",
   "execution_count": 25,
   "id": "f29ff95d-733c-488c-9ca3-a1e700573289",
   "metadata": {},
   "outputs": [
    {
     "data": {
      "text/plain": [
       "215"
      ]
     },
     "execution_count": 25,
     "metadata": {},
     "output_type": "execute_result"
    }
   ],
   "source": [
    "condition_1 = data[(data[\"smoker\"]==\"yes\") & (data[\"bmi\"]>25) & (data[\"charges\"]>16700)]\n",
    "cond_1 = condition_1.index.value_counts().sum()\n",
    "cond_1"
   ]
  },
  {
   "cell_type": "code",
   "execution_count": 26,
   "id": "0a11cd3e",
   "metadata": {},
   "outputs": [
    {
     "data": {
      "text/plain": [
       "334"
      ]
     },
     "execution_count": 26,
     "metadata": {},
     "output_type": "execute_result"
    }
   ],
   "source": [
    "total_upper_16700 = data[(data[\"charges\"]>16700)]\n",
    "total_up_16700 = total_upper_16700.index.value_counts().sum()\n",
    "total_up_16700"
   ]
  },
  {
   "cell_type": "code",
   "execution_count": 27,
   "id": "764c5902",
   "metadata": {},
   "outputs": [
    {
     "name": "stdout",
     "output_type": "stream",
     "text": [
      "Peluang seorang perokok dengan BMI diatas 25 akan mendapatkan tagihan kesehatan diatas 16700 adalah 64.37 %\n"
     ]
    }
   ],
   "source": [
    "peluang = ((cond_1/total_up_16700)*100)\n",
    "\n",
    "print('Peluang seorang perokok dengan BMI diatas 25 akan mendapatkan tagihan kesehatan diatas 16700 adalah', round(peluang,2),'%')"
   ]
  },
  {
   "cell_type": "markdown",
   "id": "454bca59",
   "metadata": {},
   "source": [
    "3. Peluang acak Perokok dengan tagihan kesehatan diatas 16700? **(P(charges > 16700 | charges > 16700 and smoker))**"
   ]
  },
  {
   "cell_type": "code",
   "execution_count": 28,
   "id": "af08d32f",
   "metadata": {},
   "outputs": [
    {
     "data": {
      "text/plain": [
       "254"
      ]
     },
     "execution_count": 28,
     "metadata": {},
     "output_type": "execute_result"
    }
   ],
   "source": [
    "condition_2 = data[(data[\"smoker\"]==\"yes\") & (data[\"charges\"]>16700)]\n",
    "cond_2 = condition_2.index.value_counts().sum()\n",
    "cond_2"
   ]
  },
  {
   "cell_type": "code",
   "execution_count": 29,
   "id": "ffe6dc8e",
   "metadata": {},
   "outputs": [
    {
     "data": {
      "text/plain": [
       "334"
      ]
     },
     "execution_count": 29,
     "metadata": {},
     "output_type": "execute_result"
    }
   ],
   "source": [
    "total_upper_16700 = data[(data[\"charges\"]>16700)]\n",
    "total_up_16700 = total_upper_16700.index.value_counts().sum()\n",
    "total_up_16700"
   ]
  },
  {
   "cell_type": "code",
   "execution_count": 30,
   "id": "4b24eccc",
   "metadata": {},
   "outputs": [
    {
     "name": "stdout",
     "output_type": "stream",
     "text": [
      "Peluang seorang perokok dengan tagihan kesehatan diatas 16700 adalah 76.05 %\n"
     ]
    }
   ],
   "source": [
    "peluang = ((cond_2/total_up_16700)*100)\n",
    "\n",
    "print('Peluang seorang perokok dengan tagihan kesehatan diatas 16700 adalah', round(peluang,2),'%')"
   ]
  },
  {
   "cell_type": "markdown",
   "id": "1c7f8a34",
   "metadata": {},
   "source": [
    "4. Mana yang lebih tinggi peluangnya?\n",
    "    1. bmi diatas 25 tagihan diatas 16700, atau\n",
    "    2. bmi dibawah 25 tagihan diatas 16700"
   ]
  },
  {
   "cell_type": "code",
   "execution_count": 31,
   "id": "57206837",
   "metadata": {},
   "outputs": [
    {
     "data": {
      "text/plain": [
       "283"
      ]
     },
     "execution_count": 31,
     "metadata": {},
     "output_type": "execute_result"
    }
   ],
   "source": [
    "condition_A = data[(data[\"bmi\"]>25) & (data[\"charges\"]>16700)]\n",
    "cond_A = condition_A.index.value_counts().sum()\n",
    "cond_A"
   ]
  },
  {
   "cell_type": "code",
   "execution_count": 32,
   "id": "dbc539a2",
   "metadata": {},
   "outputs": [
    {
     "data": {
      "text/plain": [
       "51"
      ]
     },
     "execution_count": 32,
     "metadata": {},
     "output_type": "execute_result"
    }
   ],
   "source": [
    "condition_B = data[(data[\"bmi\"]<25) & (data[\"charges\"]>16700)]\n",
    "cond_B = condition_B.index.value_counts().sum()\n",
    "cond_B"
   ]
  },
  {
   "cell_type": "code",
   "execution_count": 33,
   "id": "6443c6b9-80f7-467a-9deb-ea9767182d88",
   "metadata": {},
   "outputs": [
    {
     "data": {
      "text/plain": [
       "334"
      ]
     },
     "execution_count": 33,
     "metadata": {},
     "output_type": "execute_result"
    }
   ],
   "source": [
    "total_upper_16700 = data[(data[\"charges\"]>16700)]\n",
    "total_up_16700 = total_upper_16700.index.value_counts().sum()\n",
    "total_up_16700"
   ]
  },
  {
   "cell_type": "code",
   "execution_count": 34,
   "id": "7f5605fb",
   "metadata": {},
   "outputs": [
    {
     "name": "stdout",
     "output_type": "stream",
     "text": [
      "Peluang BMI diatas 25 dengan tagihan diatas 16700 lebih tinggi dengan peluang, 84.73 %\n"
     ]
    }
   ],
   "source": [
    "cond_A = ((cond_A/total_up_16700)*100)\n",
    "cond_B = ((cond_B/total_up_16700)*100)\n",
    "\n",
    "if cond_A > cond_B:\n",
    "    print('Peluang BMI diatas 25 dengan tagihan diatas 16700 lebih tinggi dengan peluang,'\n",
    "          , round(cond_A, 2), '%')\n",
    "else:\n",
    "    print('Peluang BMI dibawah 25 dengan tagihan diatas 16700 lebih tinggi dengan peluang,'\n",
    "          , round(cond_B, 2), '%')"
   ]
  },
  {
   "cell_type": "markdown",
   "id": "e34d6b53",
   "metadata": {},
   "source": [
    "5. Mana yang lebih tinggi peluangnya?\n",
    "    1. Perokok BMI diatas 25 tagihan diatas 16700, atau\n",
    "    2. Perokok BMI dibawah 25 tagihan diatas 16700"
   ]
  },
  {
   "cell_type": "code",
   "execution_count": 35,
   "id": "275b646a",
   "metadata": {},
   "outputs": [
    {
     "data": {
      "text/plain": [
       "215"
      ]
     },
     "execution_count": 35,
     "metadata": {},
     "output_type": "execute_result"
    }
   ],
   "source": [
    "condition_A = data[(data[\"smoker\"]==\"yes\") & (data[\"bmi\"]>25) & (data[\"charges\"]>16700)]\n",
    "cond_A = condition_A.index.value_counts().sum()\n",
    "cond_A"
   ]
  },
  {
   "cell_type": "code",
   "execution_count": 36,
   "id": "cfbf9307",
   "metadata": {},
   "outputs": [
    {
     "data": {
      "text/plain": [
       "39"
      ]
     },
     "execution_count": 36,
     "metadata": {},
     "output_type": "execute_result"
    }
   ],
   "source": [
    "condition_B = data[(data[\"smoker\"]==\"yes\") & (data[\"bmi\"]<25) & (data[\"charges\"]>16700)]\n",
    "cond_B = condition_B.index.value_counts().sum()\n",
    "cond_B"
   ]
  },
  {
   "cell_type": "code",
   "execution_count": 37,
   "id": "a2f9ef15-80a1-4229-8628-1ab6d5945180",
   "metadata": {},
   "outputs": [
    {
     "data": {
      "text/plain": [
       "334"
      ]
     },
     "execution_count": 37,
     "metadata": {},
     "output_type": "execute_result"
    }
   ],
   "source": [
    "total_upper_16700 = data[(data[\"charges\"]>16700)]\n",
    "total_up_16700 = total_upper_16700.index.value_counts().sum()\n",
    "total_up_16700"
   ]
  },
  {
   "cell_type": "code",
   "execution_count": 38,
   "id": "3513addc",
   "metadata": {},
   "outputs": [
    {
     "name": "stdout",
     "output_type": "stream",
     "text": [
      "Peluang Perokok, BMI diatas 25, tagihan diatas 16700 lebih tinggi dengan peluang, 64.37 %\n"
     ]
    }
   ],
   "source": [
    "cond_A = ((cond_A/total_up_16700)*100)\n",
    "cond_B = ((cond_B/total_up_16700)*100)\n",
    "\n",
    "if cond_A>cond_B:\n",
    "    print('Peluang Perokok, BMI diatas 25, tagihan diatas 16700 lebih tinggi dengan peluang,'\n",
    "          , round(cond_A,2), '%')\n",
    "else:\n",
    "    print('Peluang Perokok, BMI dibawah 25, tagihan diatas 16700 lebih tinggi dengan peluang,'\n",
    "          , round(cond_B,2), '%')"
   ]
  },
  {
   "cell_type": "markdown",
   "id": "096c78ae",
   "metadata": {},
   "source": [
    "## Analisa Korelasi"
   ]
  },
  {
   "cell_type": "code",
   "execution_count": 39,
   "id": "fd93a1bf",
   "metadata": {},
   "outputs": [],
   "source": [
    "import pandas as pd\n",
    "import numpy as np\n",
    "from numpy import cov\n",
    "import matplotlib.pyplot as plt\n",
    "import seaborn as sns\n",
    "from matplotlib.patches import Ellipse\n",
    "import matplotlib.transforms as transforms\n",
    "\n",
    "import ipywidgets as widgets\n",
    "from ipywidgets import interact"
   ]
  },
  {
   "cell_type": "code",
   "execution_count": 40,
   "id": "8e2d0fb8",
   "metadata": {},
   "outputs": [
    {
     "data": {
      "text/html": [
       "<div>\n",
       "<style scoped>\n",
       "    .dataframe tbody tr th:only-of-type {\n",
       "        vertical-align: middle;\n",
       "    }\n",
       "\n",
       "    .dataframe tbody tr th {\n",
       "        vertical-align: top;\n",
       "    }\n",
       "\n",
       "    .dataframe thead th {\n",
       "        text-align: right;\n",
       "    }\n",
       "</style>\n",
       "<table border=\"1\" class=\"dataframe\">\n",
       "  <thead>\n",
       "    <tr style=\"text-align: right;\">\n",
       "      <th></th>\n",
       "      <th>age</th>\n",
       "      <th>sex</th>\n",
       "      <th>bmi</th>\n",
       "      <th>children</th>\n",
       "      <th>smoker</th>\n",
       "      <th>region</th>\n",
       "      <th>charges</th>\n",
       "    </tr>\n",
       "  </thead>\n",
       "  <tbody>\n",
       "    <tr>\n",
       "      <th>0</th>\n",
       "      <td>19</td>\n",
       "      <td>female</td>\n",
       "      <td>27.900</td>\n",
       "      <td>0</td>\n",
       "      <td>yes</td>\n",
       "      <td>southwest</td>\n",
       "      <td>16884.92400</td>\n",
       "    </tr>\n",
       "    <tr>\n",
       "      <th>1</th>\n",
       "      <td>18</td>\n",
       "      <td>male</td>\n",
       "      <td>33.770</td>\n",
       "      <td>1</td>\n",
       "      <td>no</td>\n",
       "      <td>southeast</td>\n",
       "      <td>1725.55230</td>\n",
       "    </tr>\n",
       "    <tr>\n",
       "      <th>2</th>\n",
       "      <td>28</td>\n",
       "      <td>male</td>\n",
       "      <td>33.000</td>\n",
       "      <td>3</td>\n",
       "      <td>no</td>\n",
       "      <td>southeast</td>\n",
       "      <td>4449.46200</td>\n",
       "    </tr>\n",
       "    <tr>\n",
       "      <th>3</th>\n",
       "      <td>33</td>\n",
       "      <td>male</td>\n",
       "      <td>22.705</td>\n",
       "      <td>0</td>\n",
       "      <td>no</td>\n",
       "      <td>northwest</td>\n",
       "      <td>21984.47061</td>\n",
       "    </tr>\n",
       "    <tr>\n",
       "      <th>4</th>\n",
       "      <td>32</td>\n",
       "      <td>male</td>\n",
       "      <td>28.880</td>\n",
       "      <td>0</td>\n",
       "      <td>no</td>\n",
       "      <td>northwest</td>\n",
       "      <td>3866.85520</td>\n",
       "    </tr>\n",
       "    <tr>\n",
       "      <th>...</th>\n",
       "      <td>...</td>\n",
       "      <td>...</td>\n",
       "      <td>...</td>\n",
       "      <td>...</td>\n",
       "      <td>...</td>\n",
       "      <td>...</td>\n",
       "      <td>...</td>\n",
       "    </tr>\n",
       "    <tr>\n",
       "      <th>1333</th>\n",
       "      <td>50</td>\n",
       "      <td>male</td>\n",
       "      <td>30.970</td>\n",
       "      <td>3</td>\n",
       "      <td>no</td>\n",
       "      <td>northwest</td>\n",
       "      <td>10600.54830</td>\n",
       "    </tr>\n",
       "    <tr>\n",
       "      <th>1334</th>\n",
       "      <td>18</td>\n",
       "      <td>female</td>\n",
       "      <td>31.920</td>\n",
       "      <td>0</td>\n",
       "      <td>no</td>\n",
       "      <td>northeast</td>\n",
       "      <td>2205.98080</td>\n",
       "    </tr>\n",
       "    <tr>\n",
       "      <th>1335</th>\n",
       "      <td>18</td>\n",
       "      <td>female</td>\n",
       "      <td>36.850</td>\n",
       "      <td>0</td>\n",
       "      <td>no</td>\n",
       "      <td>southeast</td>\n",
       "      <td>1629.83350</td>\n",
       "    </tr>\n",
       "    <tr>\n",
       "      <th>1336</th>\n",
       "      <td>21</td>\n",
       "      <td>female</td>\n",
       "      <td>25.800</td>\n",
       "      <td>0</td>\n",
       "      <td>no</td>\n",
       "      <td>southwest</td>\n",
       "      <td>2007.94500</td>\n",
       "    </tr>\n",
       "    <tr>\n",
       "      <th>1337</th>\n",
       "      <td>61</td>\n",
       "      <td>female</td>\n",
       "      <td>29.070</td>\n",
       "      <td>0</td>\n",
       "      <td>yes</td>\n",
       "      <td>northwest</td>\n",
       "      <td>29141.36030</td>\n",
       "    </tr>\n",
       "  </tbody>\n",
       "</table>\n",
       "<p>1338 rows × 7 columns</p>\n",
       "</div>"
      ],
      "text/plain": [
       "      age     sex     bmi  children smoker     region      charges\n",
       "0      19  female  27.900         0    yes  southwest  16884.92400\n",
       "1      18    male  33.770         1     no  southeast   1725.55230\n",
       "2      28    male  33.000         3     no  southeast   4449.46200\n",
       "3      33    male  22.705         0     no  northwest  21984.47061\n",
       "4      32    male  28.880         0     no  northwest   3866.85520\n",
       "...   ...     ...     ...       ...    ...        ...          ...\n",
       "1333   50    male  30.970         3     no  northwest  10600.54830\n",
       "1334   18  female  31.920         0     no  northeast   2205.98080\n",
       "1335   18  female  36.850         0     no  southeast   1629.83350\n",
       "1336   21  female  25.800         0     no  southwest   2007.94500\n",
       "1337   61  female  29.070         0    yes  northwest  29141.36030\n",
       "\n",
       "[1338 rows x 7 columns]"
      ]
     },
     "execution_count": 40,
     "metadata": {},
     "output_type": "execute_result"
    }
   ],
   "source": [
    "# read data\n",
    "data = pd.read_csv('insurance.csv')\n",
    "data"
   ]
  },
  {
   "cell_type": "markdown",
   "id": "89bc362d",
   "metadata": {},
   "source": [
    "1. Hubungan antara bmi dengan charges?"
   ]
  },
  {
   "cell_type": "code",
   "execution_count": 41,
   "id": "32454f6f",
   "metadata": {},
   "outputs": [
    {
     "data": {
      "image/png": "[encoded data removed]",
      "text/plain": [
       "<Figure size 432x288 with 1 Axes>"
      ]
     },
     "metadata": {
      "needs_background": "light"
     },
     "output_type": "display_data"
    }
   ],
   "source": [
    "import matplotlib.pyplot as plt\n",
    "# Prepare the Data\n",
    "x = data[\"bmi\"]\n",
    "y = data[\"charges\"]\n",
    "\n",
    "# Calculate the Trendline\n",
    "z = np.polyfit(x, y, 1)\n",
    "p = np.poly1d(z)\n",
    "\n",
    "# Plot\n",
    "plt.figure(figsize = (6, 4))\n",
    "plt.scatter(x, y)\n",
    "plt.plot(x, p(x), color=\"Red\", linestyle=\"--\")\n",
    "plt.title(\"Correlation between BMI and Charges\")\n",
    "plt.xlabel('bmi')\n",
    "plt.ylabel('charges');"
   ]
  },
  {
   "cell_type": "code",
   "execution_count": 42,
   "id": "8e91b339",
   "metadata": {},
   "outputs": [
    {
     "data": {
      "text/plain": [
       "array([[3.71878836e+01, 1.46473044e+04],\n",
       "       [1.46473044e+04, 1.46652372e+08]])"
      ]
     },
     "execution_count": 42,
     "metadata": {},
     "output_type": "execute_result"
    }
   ],
   "source": [
    "np.cov(data['bmi'], data['charges'])"
   ]
  },
  {
   "cell_type": "code",
   "execution_count": 43,
   "id": "4656e997",
   "metadata": {},
   "outputs": [
    {
     "data": {
      "text/html": [
       "<div>\n",
       "<style scoped>\n",
       "    .dataframe tbody tr th:only-of-type {\n",
       "        vertical-align: middle;\n",
       "    }\n",
       "\n",
       "    .dataframe tbody tr th {\n",
       "        vertical-align: top;\n",
       "    }\n",
       "\n",
       "    .dataframe thead th {\n",
       "        text-align: right;\n",
       "    }\n",
       "</style>\n",
       "<table border=\"1\" class=\"dataframe\">\n",
       "  <thead>\n",
       "    <tr style=\"text-align: right;\">\n",
       "      <th></th>\n",
       "      <th>bmi</th>\n",
       "      <th>charges</th>\n",
       "    </tr>\n",
       "  </thead>\n",
       "  <tbody>\n",
       "    <tr>\n",
       "      <th>bmi</th>\n",
       "      <td>1.0</td>\n",
       "      <td>0.2</td>\n",
       "    </tr>\n",
       "    <tr>\n",
       "      <th>charges</th>\n",
       "      <td>0.2</td>\n",
       "      <td>1.0</td>\n",
       "    </tr>\n",
       "  </tbody>\n",
       "</table>\n",
       "</div>"
      ],
      "text/plain": [
       "         bmi  charges\n",
       "bmi      1.0      0.2\n",
       "charges  0.2      1.0"
      ]
     },
     "execution_count": 43,
     "metadata": {},
     "output_type": "execute_result"
    }
   ],
   "source": [
    "data[['bmi', 'charges']].corr().round(2)"
   ]
  },
  {
   "cell_type": "markdown",
   "id": "006a9382",
   "metadata": {},
   "source": [
    "Disimpulkan bahwa hubungan antara bmi dengan charges **berkorelasi positif namun lemah**"
   ]
  },
  {
   "cell_type": "markdown",
   "id": "bbbc1303",
   "metadata": {},
   "source": [
    "2. bagaimana age dengan charges?"
   ]
  },
  {
   "cell_type": "code",
   "execution_count": 44,
   "id": "310e31ee",
   "metadata": {},
   "outputs": [
    {
     "data": {
      "image/png": "[encoded data removed]",
      "text/plain": [
       "<Figure size 432x288 with 1 Axes>"
      ]
     },
     "metadata": {
      "needs_background": "light"
     },
     "output_type": "display_data"
    }
   ],
   "source": [
    "import matplotlib.pyplot as plt\n",
    "# Prepare the Data\n",
    "x = data['age']\n",
    "y = data['charges']\n",
    "\n",
    "# Calculate the Trendline\n",
    "z = np.polyfit(x, y, 1)\n",
    "p = np.poly1d(z)\n",
    "\n",
    "# Plot\n",
    "plt.figure(figsize = (6, 4))\n",
    "plt.scatter(x, y)\n",
    "plt.plot(x, p(x), color=\"Red\", linestyle=\"--\")\n",
    "plt.title(\"Correlation between Age and Charges\")\n",
    "plt.xlabel('age')\n",
    "plt.ylabel('charges');"
   ]
  },
  {
   "cell_type": "code",
   "execution_count": 45,
   "id": "e1ea04f3",
   "metadata": {},
   "outputs": [
    {
     "data": {
      "text/plain": [
       "array([[1.97401387e+02, 5.08748023e+04],\n",
       "       [5.08748023e+04, 1.46652372e+08]])"
      ]
     },
     "execution_count": 45,
     "metadata": {},
     "output_type": "execute_result"
    }
   ],
   "source": [
    "np.cov(data['age'], data['charges'])"
   ]
  },
  {
   "cell_type": "code",
   "execution_count": 46,
   "id": "0072cd6e",
   "metadata": {},
   "outputs": [
    {
     "data": {
      "text/html": [
       "<div>\n",
       "<style scoped>\n",
       "    .dataframe tbody tr th:only-of-type {\n",
       "        vertical-align: middle;\n",
       "    }\n",
       "\n",
       "    .dataframe tbody tr th {\n",
       "        vertical-align: top;\n",
       "    }\n",
       "\n",
       "    .dataframe thead th {\n",
       "        text-align: right;\n",
       "    }\n",
       "</style>\n",
       "<table border=\"1\" class=\"dataframe\">\n",
       "  <thead>\n",
       "    <tr style=\"text-align: right;\">\n",
       "      <th></th>\n",
       "      <th>age</th>\n",
       "      <th>charges</th>\n",
       "    </tr>\n",
       "  </thead>\n",
       "  <tbody>\n",
       "    <tr>\n",
       "      <th>age</th>\n",
       "      <td>1.0</td>\n",
       "      <td>0.3</td>\n",
       "    </tr>\n",
       "    <tr>\n",
       "      <th>charges</th>\n",
       "      <td>0.3</td>\n",
       "      <td>1.0</td>\n",
       "    </tr>\n",
       "  </tbody>\n",
       "</table>\n",
       "</div>"
      ],
      "text/plain": [
       "         age  charges\n",
       "age      1.0      0.3\n",
       "charges  0.3      1.0"
      ]
     },
     "execution_count": 46,
     "metadata": {},
     "output_type": "execute_result"
    }
   ],
   "source": [
    "data[['age', 'charges']].corr().round(2)"
   ]
  },
  {
   "cell_type": "markdown",
   "id": "a7858aa2",
   "metadata": {},
   "source": [
    "Disimpulkan bahwa hubungan antara age dengan charges **berkorelasi positif namun lemah**"
   ]
  },
  {
   "cell_type": "markdown",
   "id": "4925af1c",
   "metadata": {},
   "source": [
    "3. Bagaimana children dengan charges?"
   ]
  },
  {
   "cell_type": "code",
   "execution_count": 47,
   "id": "7784418a",
   "metadata": {},
   "outputs": [
    {
     "data": {
      "image/png": "[encoded data removed]",
      "text/plain": [
       "<Figure size 432x288 with 1 Axes>"
      ]
     },
     "metadata": {
      "needs_background": "light"
     },
     "output_type": "display_data"
    }
   ],
   "source": [
    "import matplotlib.pyplot as plt\n",
    "# Prepare the Data\n",
    "x = data['children']\n",
    "y = data['charges']\n",
    "\n",
    "# Calculate the Trendline\n",
    "z = np.polyfit(x, y, 1)\n",
    "p = np.poly1d(z)\n",
    "\n",
    "# Plot\n",
    "plt.figure(figsize = (6, 4))\n",
    "plt.scatter(x, y)\n",
    "plt.plot(x, p(x), color=\"Red\", linestyle=\"--\")\n",
    "plt.title(\"Correlation between amount of Children and Charges\")\n",
    "plt.xlabel('children')\n",
    "plt.ylabel('charges');"
   ]
  },
  {
   "cell_type": "code",
   "execution_count": 48,
   "id": "bd27ee19",
   "metadata": {},
   "outputs": [
    {
     "data": {
      "text/plain": [
       "array([[1.45321275e+00, 9.92674197e+02],\n",
       "       [9.92674197e+02, 1.46652372e+08]])"
      ]
     },
     "execution_count": 48,
     "metadata": {},
     "output_type": "execute_result"
    }
   ],
   "source": [
    "np.cov(data['children'], data['charges'])"
   ]
  },
  {
   "cell_type": "code",
   "execution_count": 49,
   "id": "52db67b8",
   "metadata": {},
   "outputs": [
    {
     "data": {
      "text/html": [
       "<div>\n",
       "<style scoped>\n",
       "    .dataframe tbody tr th:only-of-type {\n",
       "        vertical-align: middle;\n",
       "    }\n",
       "\n",
       "    .dataframe tbody tr th {\n",
       "        vertical-align: top;\n",
       "    }\n",
       "\n",
       "    .dataframe thead th {\n",
       "        text-align: right;\n",
       "    }\n",
       "</style>\n",
       "<table border=\"1\" class=\"dataframe\">\n",
       "  <thead>\n",
       "    <tr style=\"text-align: right;\">\n",
       "      <th></th>\n",
       "      <th>children</th>\n",
       "      <th>charges</th>\n",
       "    </tr>\n",
       "  </thead>\n",
       "  <tbody>\n",
       "    <tr>\n",
       "      <th>children</th>\n",
       "      <td>1.00</td>\n",
       "      <td>0.07</td>\n",
       "    </tr>\n",
       "    <tr>\n",
       "      <th>charges</th>\n",
       "      <td>0.07</td>\n",
       "      <td>1.00</td>\n",
       "    </tr>\n",
       "  </tbody>\n",
       "</table>\n",
       "</div>"
      ],
      "text/plain": [
       "          children  charges\n",
       "children      1.00     0.07\n",
       "charges       0.07     1.00"
      ]
     },
     "execution_count": 49,
     "metadata": {},
     "output_type": "execute_result"
    }
   ],
   "source": [
    "data[['children', 'charges']].corr().round(2)"
   ]
  },
  {
   "cell_type": "markdown",
   "id": "bdafa81e",
   "metadata": {},
   "source": [
    "Disimpulkan bahwa hubungan antara children dengan charges **tidak berkorelasi** karena mendekati 0"
   ]
  },
  {
   "cell_type": "markdown",
   "id": "87176f65",
   "metadata": {},
   "source": [
    "## Hypothesis Testing"
   ]
  },
  {
   "cell_type": "markdown",
   "id": "aa3f0208",
   "metadata": {},
   "source": [
    "1. Tagihan kesehatan perokok lebih tinggi dari tagihan kesehatan non perokok?"
   ]
  },
  {
   "cell_type": "markdown",
   "id": "6681e791",
   "metadata": {},
   "source": [
    "Langkah 1 - lakukan sampling data"
   ]
  },
  {
   "cell_type": "code",
   "execution_count": 50,
   "id": "1835ce54",
   "metadata": {},
   "outputs": [
    {
     "data": {
      "text/plain": [
       "array([21098.55405, 27218.43725, 36397.576  , 19107.7796 , 17081.08   ,\n",
       "       32734.1863 , 17748.5062 , 44423.803  , 27808.7251 , 24393.6224 ,\n",
       "       48675.5177 , 42856.838  , 29141.3603 , 22412.6485 , 19594.80965,\n",
       "       26926.5144 , 38746.3551 , 34672.1472 , 37079.372  , 39597.4072 ,\n",
       "       36197.699  , 21677.28345, 46599.1084 , 17560.37975, 12829.4551 ,\n",
       "       46151.1245 , 34617.84065, 18259.216  , 24869.8368 , 16577.7795 ])"
      ]
     },
     "execution_count": 50,
     "metadata": {},
     "output_type": "execute_result"
    }
   ],
   "source": [
    "perokok = np.array(data['charges'].loc[data['smoker']=='yes'].sample(n=30))\n",
    "perokok"
   ]
  },
  {
   "cell_type": "code",
   "execution_count": 51,
   "id": "7f48771e",
   "metadata": {},
   "outputs": [
    {
     "data": {
      "text/plain": [
       "array([ 5012.471  ,  6272.4772 ,  1621.3402 , 11830.6072 , 12146.971  ,\n",
       "        5400.9805 ,  7348.142  ,  5966.8874 ,  9549.5651 ,  9583.8933 ,\n",
       "        3987.926  ,  6858.4796 ,  9193.8385 ,  3201.24515,  1515.3449 ,\n",
       "       28923.13692,  2055.3249 , 27117.99378,  3579.8287 ,  7152.6714 ,\n",
       "        5312.16985, 12622.1795 , 12124.9924 ,  2710.82855, 21344.8467 ,\n",
       "       30063.58055,  1632.03625,  3353.284  ,  4827.90495, 11881.358  ])"
      ]
     },
     "execution_count": 51,
     "metadata": {},
     "output_type": "execute_result"
    }
   ],
   "source": [
    "non_perokok = np.array(data['charges'].loc[data['smoker']=='no'].sample(n=30))\n",
    "non_perokok"
   ]
  },
  {
   "cell_type": "markdown",
   "id": "697e73b0",
   "metadata": {},
   "source": [
    "dikarenakan kita mengambil sample berjumlah 30 dan mengasumsikan tidak mengetahui standar deviasinya maka yang digunakan adalah **statistik uji t-test 2 sampel**"
   ]
  },
  {
   "cell_type": "markdown",
   "id": "c74b962f",
   "metadata": {},
   "source": [
    "Hipothesis yang kita uji adalah:\n",
    "$$H_0: \\mu(perokok) \\geq \\mu(non perokok)$$\n",
    "$$H_1: \\mu(perokok) <  \\mu(non perokok)$$"
   ]
  },
  {
   "cell_type": "markdown",
   "id": "b70a23ea",
   "metadata": {},
   "source": [
    "Langkah 2 - inisiasi alpha"
   ]
  },
  {
   "cell_type": "code",
   "execution_count": 52,
   "id": "fec65a87",
   "metadata": {},
   "outputs": [],
   "source": [
    "alpha = 0.05"
   ]
  },
  {
   "cell_type": "markdown",
   "id": "874072e5",
   "metadata": {},
   "source": [
    "Langkah 3 - aturan keputusan"
   ]
  },
  {
   "cell_type": "markdown",
   "id": "299415e0",
   "metadata": {},
   "source": [
    "* Alpha = 0.05\n",
    "* Uji Pihak Kiri (karena $H_1$ mengandung tanda <)"
   ]
  },
  {
   "cell_type": "markdown",
   "id": "52a37176",
   "metadata": {},
   "source": [
    "Langkah 4 - melakukan uji statistik t"
   ]
  },
  {
   "cell_type": "code",
   "execution_count": 53,
   "id": "a7df6648",
   "metadata": {},
   "outputs": [
    {
     "name": "stdout",
     "output_type": "stream",
     "text": [
      "Statistics = 8.44, p-value = 1.00\n"
     ]
    }
   ],
   "source": [
    "from scipy.stats import ttest_ind\n",
    "\n",
    "stat, p = ttest_ind(a=perokok, b=non_perokok, equal_var=False, alternative='less')\n",
    "\n",
    "print('Statistics = %.2f, p-value = %.2f' % (stat,p))"
   ]
  },
  {
   "cell_type": "markdown",
   "id": "f8170cce",
   "metadata": {},
   "source": [
    "Langkah 5 - pengambilan keputusan"
   ]
  },
  {
   "cell_type": "code",
   "execution_count": 54,
   "id": "c5ae9940",
   "metadata": {},
   "outputs": [
    {
     "name": "stdout",
     "output_type": "stream",
     "text": [
      "Gagal tolak H0\n"
     ]
    }
   ],
   "source": [
    "if p > alpha:\n",
    "    print('Gagal tolak H0')\n",
    "else:\n",
    "    print('tolak H0')"
   ]
  },
  {
   "cell_type": "markdown",
   "id": "895d2264",
   "metadata": {},
   "source": [
    "Langkah 6 - kesimpulan"
   ]
  },
  {
   "cell_type": "markdown",
   "id": "de8de9ac",
   "metadata": {},
   "source": [
    "Karena hasil dari keputusan adalah **Gagal tolak H0** maka **Rata-rata tagihan perokok memang lebih tinggi daripada non-perokok**"
   ]
  },
  {
   "cell_type": "markdown",
   "id": "74dbd4d5",
   "metadata": {},
   "source": [
    "2. Tagihan kesehatan dengan bmi diatas 25 lebih tinggi daripada tagihan kesehatan bmi dibawah 25?"
   ]
  },
  {
   "cell_type": "markdown",
   "id": "8144d86f",
   "metadata": {},
   "source": [
    "Langkah 1 - lakukan sampling data"
   ]
  },
  {
   "cell_type": "code",
   "execution_count": 55,
   "id": "9e19dca9",
   "metadata": {},
   "outputs": [
    {
     "data": {
      "text/plain": [
       "array([ 4058.1161 , 36307.7983 , 17081.08   ,  1632.56445,  6414.178  ,\n",
       "        2494.022  , 46130.5265 ,  2850.68375,  4667.60765, 10325.206  ,\n",
       "        3366.6697 , 14692.66935,  3591.48   ,  2203.47185, 14254.6082 ,\n",
       "        2710.82855, 10493.9458 ,  2523.1695 ,  5428.7277 ,  1639.5631 ,\n",
       "       13770.0979 ,  9563.029  , 36580.28216,  7626.993  ,  1137.011  ,\n",
       "        6282.235  , 11085.5868 , 17560.37975, 14319.031  ,  7445.918  ])"
      ]
     },
     "execution_count": 55,
     "metadata": {},
     "output_type": "execute_result"
    }
   ],
   "source": [
    "charges_bmi_upper25 = np.array(data['charges'].loc[data['bmi']>25].sample(n=30))\n",
    "charges_bmi_upper25"
   ]
  },
  {
   "cell_type": "code",
   "execution_count": 56,
   "id": "ebece009",
   "metadata": {},
   "outputs": [
    {
     "data": {
      "text/plain": [
       "array([16420.49455,  1832.094  ,  4931.647  , 13204.28565,  7222.78625,\n",
       "        6593.5083 , 13725.47184, 35069.37452, 13012.20865,  3353.4703 ,\n",
       "       19798.05455, 13747.87235,  1121.8739 , 21195.818  ,  4005.4225 ,\n",
       "       27117.99378, 13129.60345, 11830.6072 ,  2585.85065, 22192.43711,\n",
       "        6858.4796 ,  4185.0979 ,  9182.17   , 18767.7377 ,  2709.1119 ,\n",
       "       11729.6795 , 24873.3849 ,  2974.126  , 23887.6627 ,  4032.2407 ])"
      ]
     },
     "execution_count": 56,
     "metadata": {},
     "output_type": "execute_result"
    }
   ],
   "source": [
    "charges_bmi_under25 = np.array(data['charges'].loc[data['bmi']<25].sample(n=30))\n",
    "charges_bmi_under25"
   ]
  },
  {
   "cell_type": "markdown",
   "id": "b614a355",
   "metadata": {},
   "source": [
    "dikarenakan kita mengambil sample berjumlah 30 dan mengasumsikan tidak mengetahui standar deviasinya maka yang digunakan adalah **statistik uji t-test 2 sampel**"
   ]
  },
  {
   "cell_type": "markdown",
   "id": "cf721375",
   "metadata": {},
   "source": [
    "Hipothesis yang kita uji adalah:\n",
    "$$H_0: \\mu(bmi>25) \\geq \\mu(bmi<25)$$\n",
    "$$H_1: \\mu(bmi>25) <  \\mu(bmi<25)$$"
   ]
  },
  {
   "cell_type": "markdown",
   "id": "657c38b0",
   "metadata": {},
   "source": [
    "Langkah 2 - inisiasi alpha"
   ]
  },
  {
   "cell_type": "code",
   "execution_count": 57,
   "id": "c47accb8",
   "metadata": {},
   "outputs": [],
   "source": [
    "alpha = 0.05"
   ]
  },
  {
   "cell_type": "markdown",
   "id": "165cc680",
   "metadata": {},
   "source": [
    "Langkah 3 - aturan keputusan"
   ]
  },
  {
   "cell_type": "markdown",
   "id": "b65a5f34",
   "metadata": {},
   "source": [
    "* Alpha = 0.05\n",
    "* Uji Pihak Kiri (karena $H_1$ mengandung tanda <)"
   ]
  },
  {
   "cell_type": "markdown",
   "id": "3e434755",
   "metadata": {},
   "source": [
    "Langkah 4 - uji statistik t"
   ]
  },
  {
   "cell_type": "code",
   "execution_count": 58,
   "id": "6ca8368b",
   "metadata": {},
   "outputs": [
    {
     "name": "stdout",
     "output_type": "stream",
     "text": [
      "Statistics = -0.55, p-value = 0.29\n"
     ]
    }
   ],
   "source": [
    "from scipy.stats import ttest_ind\n",
    "\n",
    "stat, p = ttest_ind(a=charges_bmi_upper25, b=charges_bmi_under25, equal_var=False, alternative='less')\n",
    "\n",
    "print('Statistics = %.2f, p-value = %.2f' % (stat,p))"
   ]
  },
  {
   "cell_type": "markdown",
   "id": "d52310b3",
   "metadata": {},
   "source": [
    "Langkah 5 - pengambilan keputusan"
   ]
  },
  {
   "cell_type": "code",
   "execution_count": 59,
   "id": "91359ddd",
   "metadata": {},
   "outputs": [
    {
     "name": "stdout",
     "output_type": "stream",
     "text": [
      "Gagal tolak H0\n"
     ]
    }
   ],
   "source": [
    "if p > alpha:\n",
    "    print('Gagal tolak H0')\n",
    "else:\n",
    "    print('tolak H0')"
   ]
  },
  {
   "cell_type": "markdown",
   "id": "2c85b909",
   "metadata": {},
   "source": [
    "Langkah 6 - kesimpulan"
   ]
  },
  {
   "cell_type": "markdown",
   "id": "ed6c5c12",
   "metadata": {},
   "source": [
    "Karena hasil dari keputusan adalah **Gagal tolak H0** maka **Rata-rata tagihan bmi diatas 25 memang lebih tinggi daripada bmi dibawah 25**"
   ]
  },
  {
   "cell_type": "markdown",
   "id": "904a2f8c",
   "metadata": {},
   "source": [
    "3. BMI laki-laki dan perempuan sama?"
   ]
  },
  {
   "cell_type": "markdown",
   "id": "fee2e06d",
   "metadata": {},
   "source": [
    "Langkah 1 - lakukan sampling data"
   ]
  },
  {
   "cell_type": "code",
   "execution_count": 60,
   "id": "11d84a42",
   "metadata": {},
   "outputs": [
    {
     "data": {
      "text/plain": [
       "array([27.835, 24.51 , 30.8  , 30.875, 25.1  , 23.76 , 32.7  , 27.36 ,\n",
       "       37.51 , 21.5  , 26.03 , 32.3  , 21.85 , 31.445, 36.6  , 28.5  ,\n",
       "       25.175, 27.6  , 33.82 , 28.31 , 29.83 , 27.74 , 29.83 , 41.8  ,\n",
       "       30.8  , 27.36 , 26.41 , 45.43 , 34.96 , 42.9  ])"
      ]
     },
     "execution_count": 60,
     "metadata": {},
     "output_type": "execute_result"
    }
   ],
   "source": [
    "male = np.array(data['bmi'].loc[data['sex']=='male'].sample(n=30))\n",
    "male"
   ]
  },
  {
   "cell_type": "code",
   "execution_count": 61,
   "id": "1ad12e0d",
   "metadata": {},
   "outputs": [
    {
     "data": {
      "text/plain": [
       "array([22.895, 25.3  , 35.53 , 35.15 , 29.8  , 36.85 , 26.8  , 34.105,\n",
       "       30.685, 25.365, 16.815, 22.61 , 37.43 , 35.3  , 27.6  , 36.   ,\n",
       "       21.755, 29.07 , 24.035, 31.92 , 26.29 , 39.2  , 26.885, 22.135,\n",
       "       34.32 , 37.145, 30.14 , 29.92 , 28.785, 33.25 ])"
      ]
     },
     "execution_count": 61,
     "metadata": {},
     "output_type": "execute_result"
    }
   ],
   "source": [
    "female = np.array(data['bmi'].loc[data['sex']=='female'].sample(n=30))\n",
    "female"
   ]
  },
  {
   "cell_type": "markdown",
   "id": "35eadd25",
   "metadata": {},
   "source": [
    "dikarenakan kita mengambil sample berjumlah 30 dan mengasumsikan tidak mengetahui standar deviasinya maka yang digunakan adalah **statistik uji t-test 2 sampel**"
   ]
  },
  {
   "cell_type": "markdown",
   "id": "23814c8c",
   "metadata": {},
   "source": [
    "Hipothesis yang kita uji adalah:\n",
    "$$H_0: \\mu(male) = \\mu(female)$$\n",
    "$$H_1: \\mu(male) \\not=  \\mu(female)$$"
   ]
  },
  {
   "cell_type": "markdown",
   "id": "8c606ba0",
   "metadata": {},
   "source": [
    "Langkah 2 - inisiasi alpha"
   ]
  },
  {
   "cell_type": "code",
   "execution_count": 62,
   "id": "a0592576",
   "metadata": {},
   "outputs": [],
   "source": [
    "alpha = 0.05"
   ]
  },
  {
   "cell_type": "markdown",
   "id": "0fe74344",
   "metadata": {},
   "source": [
    "Langkah 3 - aturan keputusan"
   ]
  },
  {
   "cell_type": "markdown",
   "id": "5bcc6887",
   "metadata": {},
   "source": [
    "* Alpha = 0.05\n",
    "* Uji Pihak Kanan (karena $H_1$ mengandung tanda $\\not =$)"
   ]
  },
  {
   "cell_type": "markdown",
   "id": "522dfb64",
   "metadata": {},
   "source": [
    "Langkah 4 - uji statistik t"
   ]
  },
  {
   "cell_type": "code",
   "execution_count": 63,
   "id": "5d0540a1",
   "metadata": {},
   "outputs": [
    {
     "name": "stdout",
     "output_type": "stream",
     "text": [
      "Statistics = 0.39, p-value = 0.35\n"
     ]
    }
   ],
   "source": [
    "from scipy.stats import ttest_ind\n",
    "\n",
    "stat, p = ttest_ind(a=male, b=female, equal_var=False, alternative='greater')\n",
    "\n",
    "print('Statistics = %.2f, p-value = %.2f' % (stat,p))"
   ]
  },
  {
   "cell_type": "markdown",
   "id": "235f51ca",
   "metadata": {},
   "source": [
    "Langkah 5 - pengambilan keputusan"
   ]
  },
  {
   "cell_type": "code",
   "execution_count": 64,
   "id": "56ee8abd",
   "metadata": {},
   "outputs": [
    {
     "name": "stdout",
     "output_type": "stream",
     "text": [
      "Gagal tolak H0\n"
     ]
    }
   ],
   "source": [
    "if p > alpha:\n",
    "    print('Gagal tolak H0')\n",
    "else:\n",
    "    print('tolak H0')"
   ]
  },
  {
   "cell_type": "markdown",
   "id": "56df2fc9",
   "metadata": {},
   "source": [
    "Langkah 6 - kesimpulan"
   ]
  },
  {
   "cell_type": "markdown",
   "id": "d992886b",
   "metadata": {},
   "source": [
    "Karena hasil dari keputusan adalah **Gagal tolak H0** maka **Rata-rata BMI laki-laki maupun perempuan cenderung sama**"
   ]
  }
 ],
 "metadata": {
  "kernelspec": {
   "display_name": "Python 3 (ipykernel)",
   "language": "python",
   "name": "python3"
  },
  "language_info": {
   "codemirror_mode": {
    "name": "ipython",
    "version": 3
   },
   "file_extension": ".py",
   "mimetype": "text/x-python",
   "name": "python",
   "nbconvert_exporter": "python",
   "pygments_lexer": "ipython3",
   "version": "3.9.12"
  },
  "toc": {
   "base_numbering": 1,
   "nav_menu": {},
   "number_sections": false,
   "sideBar": true,
   "skip_h1_title": false,
   "title_cell": "Table of Contents",
   "title_sidebar": "Contents",
   "toc_cell": false,
   "toc_position": {},
   "toc_section_display": true,
   "toc_window_display": false
  },
  "vscode": {
   "interpreter": {
    "hash": "7ff078433fcb48fff2a7b8f06c79e61d82ed03fbf10ce0e01e499e2eb0e54e05"
   }
  }
 },
 "nbformat": 4,
 "nbformat_minor": 5
}
